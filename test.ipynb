{
 "cells": [
  {
   "cell_type": "code",
   "execution_count": null,
   "metadata": {},
   "outputs": [],
   "source": [
    "from astropy.io import fits\n",
    "import numpy as np\n",
    "import matplotlib.pyplot as plt\n",
    "from paus_utils import *"
   ]
  },
  {
   "cell_type": "code",
   "execution_count": null,
   "metadata": {},
   "outputs": [],
   "source": [
    "cat = fits.open('/home/alberto/almacen/PAUS_data/catalogs/EDR_1.fits')"
   ]
  },
  {
   "cell_type": "code",
   "execution_count": null,
   "metadata": {},
   "outputs": [],
   "source": [
    "# Units such: m_AB = 26 - 2.5 * log10(flux)\n",
    "c = 29979245800\n",
    "flx_u_constant = 1.445439770746259e-22 * c\n",
    "def flux_units(paus_flx, w):\n",
    "    return flx_u_constant * paus_flx * w ** -2\n",
    "\n",
    "src = 234\n",
    "\n",
    "flx = np.array(cat[1].data[src][7 : 7 + 40])\n",
    "err = np.array(cat[1].data[src][7 + 40 : 7 + 40 + 40])\n",
    "\n",
    "flx = flux_units(flx, w_central[:-6])\n",
    "err = flux_units(err, w_central[:-6])"
   ]
  },
  {
   "cell_type": "code",
   "execution_count": null,
   "metadata": {},
   "outputs": [],
   "source": [
    "fig, ax = plt.subplots(figsize=(7, 4))\n",
    "\n",
    "plot_PAUS_source(flx, err, ax=ax, e17scale=True)\n",
    "\n",
    "plt.show()"
   ]
  }
 ],
 "metadata": {
  "kernelspec": {
   "display_name": "base",
   "language": "python",
   "name": "python3"
  },
  "language_info": {
   "codemirror_mode": {
    "name": "ipython",
    "version": 3
   },
   "file_extension": ".py",
   "mimetype": "text/x-python",
   "name": "python",
   "nbconvert_exporter": "python",
   "pygments_lexer": "ipython3",
   "version": "3.10.10"
  },
  "orig_nbformat": 4
 },
 "nbformat": 4,
 "nbformat_minor": 2
}
