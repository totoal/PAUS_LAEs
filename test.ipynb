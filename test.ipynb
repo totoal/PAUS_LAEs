{
 "cells": [
  {
   "cell_type": "code",
   "execution_count": null,
   "metadata": {},
   "outputs": [],
   "source": [
    "import numpy as np\n",
    "import matplotlib.pyplot as plt\n",
    "from paus_utils import *"
   ]
  },
  {
   "cell_type": "code",
   "execution_count": null,
   "metadata": {},
   "outputs": [],
   "source": [
    "from astropy.table import Table\n",
    "cat = Table.read('/home/alberto/almacen/PAUS_data/catalogs/EDR_1.fits').to_pandas()\n",
    "cat.head()"
   ]
  },
  {
   "cell_type": "code",
   "execution_count": null,
   "metadata": {},
   "outputs": [],
   "source": [
    "# Units such: m_AB = 26 - 2.5 * log10(flux)\n",
    "c = 29979245800\n",
    "flx_u_constant = 1.445439770746259e-22 * c\n",
    "def flux_units(paus_flx, w):\n",
    "    return flx_u_constant * paus_flx * w ** -2\n",
    "\n",
    "src = np.random.randint(0, len(cat[1].data))\n",
    "\n",
    "flx = np.array(cat[1].data[src][7 : 7 + 40])\n",
    "err = np.array(cat[1].data[src][7 + 40 : 7 + 40 + 40])\n",
    "\n",
    "flx = flux_units(flx, w_central[:-6])\n",
    "err = flux_units(err, w_central[:-6])\n",
    "\n",
    "fig, ax = plt.subplots(figsize=(7, 4))\n",
    "\n",
    "plot_PAUS_source(flx, err, ax=ax, e17scale=True)\n",
    "\n",
    "ax.set_title('A real source from PAUS early data release')\n",
    "\n",
    "plt.show()"
   ]
  },
  {
   "cell_type": "code",
   "execution_count": null,
   "metadata": {},
   "outputs": [],
   "source": [
    "# Load SFG Mock\n",
    "mock_path = '/home/alberto/almacen/Source_cats/LAE_12.5deg_z2-4.25_PAUS_0/data1.csv'\n",
    "sfg_mock = pd.read_csv(mock_path).to_numpy()"
   ]
  },
  {
   "cell_type": "code",
   "execution_count": null,
   "metadata": {},
   "outputs": [],
   "source": [
    "src = np.random.randint(0, len(sfg_mock))\n",
    "flx = sfg_mock[src][1 : 1 + 46]\n",
    "err = sfg_mock[src][1 + 46 : 1 + 46 + 46]\n",
    "\n",
    "fig, ax = plt.subplots(figsize=(8, 4))\n",
    "\n",
    "plot_PAUS_source(flx, err, ax=ax, e17scale=True)\n",
    "\n",
    "ax.set_title('A PAUS mock SFG source')\n",
    "\n",
    "plt.show()"
   ]
  },
  {
   "cell_type": "code",
   "execution_count": null,
   "metadata": {},
   "outputs": [],
   "source": [
    "# Load QSO mock\n",
    "qso_mock_name = 'QSO_PAUS_LAES_2'\n",
    "qso_mock = pd.read_csv(f'/home/alberto/almacen/Source_cats/{qso_mock_name}/data325350.csv').to_numpy()"
   ]
  },
  {
   "cell_type": "code",
   "execution_count": null,
   "metadata": {},
   "outputs": [],
   "source": [
    "src = np.random.randint(0, len(qso_mock))\n",
    "flx = qso_mock[src][1 : 1 + 46]\n",
    "err = qso_mock[src][1 + 46 : 1 + 46 + 46]\n",
    "\n",
    "fig, ax = plt.subplots(figsize=(8, 4))\n",
    "\n",
    "plot_PAUS_source(flx, err, ax=ax, e17scale=True,\n",
    "                 sdss_range_mode=True)\n",
    "\n",
    "ax.set_title('A PAUS mock QSO source')\n",
    "\n",
    "plt.show()"
   ]
  }
 ],
 "metadata": {
  "kernelspec": {
   "display_name": "base",
   "language": "python",
   "name": "python3"
  },
  "language_info": {
   "codemirror_mode": {
    "name": "ipython",
    "version": 3
   },
   "file_extension": ".py",
   "mimetype": "text/x-python",
   "name": "python",
   "nbconvert_exporter": "python",
   "pygments_lexer": "ipython3",
   "version": "3.11.3"
  },
  "orig_nbformat": 4
 },
 "nbformat": 4,
 "nbformat_minor": 2
}
