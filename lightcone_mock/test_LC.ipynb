{
 "cells": [
  {
   "cell_type": "code",
   "execution_count": null,
   "metadata": {},
   "outputs": [],
   "source": [
    "import numpy as np\n",
    "\n",
    "import sys\n",
    "sys.path.insert(0, '..')\n",
    "\n",
    "from paus_utils import plot_PAUS_source, w_central\n",
    "\n",
    "import matplotlib.pyplot as plt\n",
    "\n",
    "from jpasLAEs.utils import mag_to_flux"
   ]
  },
  {
   "cell_type": "code",
   "execution_count": null,
   "metadata": {},
   "outputs": [],
   "source": [
    "directory = \"/home/alberto/almacen/PAUS_data/20240207_mock_data_with_FluxLines_columns_MR_150vols_3x3deg_z0-5\"  # path where the data is store\n",
    "suff_name = \"_magCut[PAUS_BBF_i_25]_LC_chunks[0-150].npy\"  # all the names of single 'columns' arrays end with this string\n",
    "\n",
    "columns_to_read = [\"Pos\", \"Redshift\", \"ObsMagDust\", 'ObsAppMagDustLine',\n",
    "                   'FluxDust_OII_3727', 'FluxDust_OII_3729']\n",
    "\n",
    "OUT = {'dummy' : 'dummy_string'}\n",
    "for nm in columns_to_read:\n",
    "    fname = f'{directory}/{nm}{suff_name}'\n",
    "    OUT[nm] = np.load( fname )\n",
    "OUT.pop('dummy')"
   ]
  },
  {
   "cell_type": "code",
   "execution_count": null,
   "metadata": {},
   "outputs": [],
   "source": [
    "from astropy.cosmology import Planck18 as cosmo\n",
    "import astropy.units as u\n",
    "\n",
    "\n",
    "src = np.random.randint(0, len(OUT['Redshift']))\n",
    "\n",
    "def M_to_m(M, redshift):\n",
    "    '''\n",
    "    Computes the apparent magnitude from the absolute magnitude\n",
    "    Inputs:\n",
    "    M: Absolute magnitude\n",
    "    redshift: Redshift of the source\n",
    "    '''\n",
    "    # Luminosity distance:\n",
    "    dL = cosmo.luminosity_distance(redshift).to(u.pc).value.reshape(-1, 1)\n",
    "\n",
    "    return M + 5 * np.log10(dL) - 5\n",
    "\n",
    "filter_order = np.concatenate([np.arange(1, 3),\n",
    "                               np.arange(4, 21),\n",
    "                               np.arange(22, 35),\n",
    "                               np.arange(36, 44),\n",
    "                               [0, 3, 21, 35, 44, 45]])\n",
    "\n",
    "flx = mag_to_flux(M_to_m(OUT['ObsAppMagDustLine'].T[:, src][filter_order], OUT['Redshift'][src]), w_central).flatten()\n",
    "print(flx)\n",
    "\n",
    "fig, ax = plt.subplots()\n",
    "\n",
    "plot_PAUS_source(flx, flx * 0.01,\n",
    "                 ax=ax)\n",
    "\n",
    "plt.show()"
   ]
  },
  {
   "cell_type": "code",
   "execution_count": null,
   "metadata": {},
   "outputs": [],
   "source": [
    "def M_to_m_alt(M, redshift):\n",
    "    '''\n",
    "    Computes the apparent magnitude from the absolute magnitude\n",
    "    Inputs:\n",
    "    M: Absolute magnitude\n",
    "    redshift: Redshift of the source\n",
    "    '''\n",
    "    # Luminosity distance:\n",
    "    dL = cosmo.luminosity_distance(redshift).to(u.pc).value\n",
    "\n",
    "    return M + 5 * np.log10(dL) - 5\n",
    "r_mag = M_to_m_alt(OUT['ObsAppMagDustLine'][:, 21].flatten(), OUT['Redshift'])\n",
    "i_mag = M_to_m_alt(OUT['ObsAppMagDustLine'][:, 35].flatten(), OUT['Redshift'])"
   ]
  },
  {
   "cell_type": "code",
   "execution_count": null,
   "metadata": {},
   "outputs": [],
   "source": [
    "fig, ax = plt.subplots()\n",
    "\n",
    "ax.hist(r_mag, np.linspace(16, 40, 100), histtype='step')\n",
    "ax.hist(i_mag, np.linspace(16, 40, 100), histtype='step')\n",
    "\n",
    "plt.show()"
   ]
  },
  {
   "cell_type": "code",
   "execution_count": null,
   "metadata": {},
   "outputs": [],
   "source": [
    "fig, ax = plt.subplots()\n",
    "\n",
    "ax.hist(OUT['Redshift'], 100)\n",
    "\n",
    "ax.axvline(0.9)\n",
    "ax.axvline(1.2)\n",
    "\n",
    "plt.show()"
   ]
  },
  {
   "cell_type": "code",
   "execution_count": null,
   "metadata": {},
   "outputs": [],
   "source": [
    "fig, ax = plt.subplots()\n",
    "\n",
    "ax.hist(np.log10(OUT['FluxDust_OII_3729']), np.linspace(-20, -10), histtype='step')\n",
    "\n",
    "ax.set_yscale('log')\n",
    "\n",
    "plt.show()"
   ]
  }
 ],
 "metadata": {
  "kernelspec": {
   "display_name": "base",
   "language": "python",
   "name": "python3"
  },
  "language_info": {
   "codemirror_mode": {
    "name": "ipython",
    "version": 3
   },
   "file_extension": ".py",
   "mimetype": "text/x-python",
   "name": "python",
   "nbconvert_exporter": "python",
   "pygments_lexer": "ipython3",
   "version": "3.12.2"
  }
 },
 "nbformat": 4,
 "nbformat_minor": 2
}
