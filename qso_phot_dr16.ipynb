{
 "cells": [
  {
   "cell_type": "code",
   "execution_count": null,
   "metadata": {},
   "outputs": [],
   "source": [
    "from astropy.io import fits\n",
    "from astropy.table import Table\n",
    "import pandas as pd\n",
    "import numpy as np\n",
    "import threading\n",
    "import time\n",
    "import pickle"
   ]
  },
  {
   "cell_type": "code",
   "execution_count": null,
   "metadata": {},
   "outputs": [],
   "source": [
    "path_to_paus_data = '/home/alberto/almacen/PAUS_data'\n",
    "with open(f'{path_to_paus_data}/paus_tcurves.pkl', 'rb') as f:\n",
    "    tcurves = pickle.load(f)"
   ]
  },
  {
   "cell_type": "code",
   "execution_count": null,
   "metadata": {},
   "outputs": [],
   "source": [
    "filename = '/home/alberto/almacen/SDSS_spectra_fits/DR16/DR16Q_Superset_v3.fits'\n",
    "with fits.open(filename) as fread:\n",
    "    # Criteria in Queiroz et al. 2022\n",
    "    # good_qso = (\n",
    "    #     (fread[1].data['ZWARNING'] == 0)\n",
    "    #     & (fread[1].data['SN_MEDIAN_ALL'] > 0)\n",
    "    #     & (fread[1].data['Z_CONF'] == 3)\n",
    "    #     & ((fread[1].data['CLASS_PERSON'] == 3) | (fread[1].data['CLASS_PERSON'] == 30))\n",
    "    # )\n",
    "    good_qso = (\n",
    "        (fread[1].data['ZWARNING'] == 0)\n",
    "        & (fread[1].data['SN_MEDIAN_ALL'] > 0)\n",
    "        & (fread[1].data['IS_QSO_FINAL'] > 0)\n",
    "    )\n",
    "\n",
    "    plate = fread[1].data['PLATE'][good_qso]\n",
    "    mjd = fread[1].data['MJD'][good_qso]\n",
    "    fiber = fread[1].data['FIBERID'][good_qso]\n",
    "\n",
    "    z_Arr = fread[1].data['Z_VI'][good_qso]\n",
    "\n",
    "    print(f'Good QSOs: {sum(good_qso)}')"
   ]
  },
  {
   "cell_type": "code",
   "execution_count": null,
   "metadata": {},
   "outputs": [],
   "source": [
    "z = pd.DataFrame(z_Arr.reshape(-1, 1))\n",
    "# z.to_csv('/home/alberto/Desktop/z.csv', header=['z'])"
   ]
  },
  {
   "cell_type": "code",
   "execution_count": null,
   "metadata": {},
   "outputs": [],
   "source": [
    "wt_Arr = [np.array(w) for w in tcurves['w']]\n",
    "t_Arr = [np.array(t) for t in tcurves['t']]\n",
    "\n",
    "# Cut w and t where the transmission is greater than some value for\n",
    "# performance and bugs\n",
    "# ALSO: cut where the wavelength is lower than the lower limit of SDSS\n",
    "t_int_Arr = []\n",
    "for fil in np.arange(46):\n",
    "    cut_t_curve = (t_Arr[fil] > 0.05)\n",
    "    wt_Arr[fil] = wt_Arr[fil][cut_t_curve]\n",
    "    t_Arr[fil] = t_Arr[fil][cut_t_curve]\n",
    "\n",
    "    w = wt_Arr[fil]\n",
    "    t = t_Arr[fil]\n",
    "    t_int_Arr.append(np.trapz(w * t, w))\n",
    "\n",
    "phot_len = len(tcurves['tag'])\n",
    "\n",
    "which_filters = np.arange(phot_len)\n",
    "def synth_phot(SEDs, w_Arr):\n",
    "    pm = np.zeros(phot_len)    \n",
    "\n",
    "    for fil in which_filters:\n",
    "        w = wt_Arr[fil]\n",
    "        t = t_Arr[fil]\n",
    "\n",
    "        # Set t to zero where w<min(w_Arr)\n",
    "        t[w < np.min(w_Arr)] = 0\n",
    "\n",
    "        wt = w * t\n",
    "\n",
    "        sed_interp = np.interp(w, w_Arr, SEDs, left=1e99, right=np.inf)\n",
    "        sed_int = np.trapz(wt * sed_interp, w)\n",
    "        \n",
    "        pm[fil] = sed_int / t_int_Arr[fil]\n",
    "    return pm[which_filters]"
   ]
  },
  {
   "cell_type": "code",
   "execution_count": null,
   "metadata": {},
   "outputs": [],
   "source": [
    "fits_dir = '/home/alberto/almacen/SDSS_spectra_fits/DR16/QSO'\n",
    "def do_qso_phot(plate, mjd, fiber, pm_SEDs, slc):\n",
    "    # N_src_this = len(mjd)\n",
    "    for src, (pl, mj, fi) in enumerate(zip(plate, mjd, fiber)):\n",
    "        # if src % 100 == 0:\n",
    "        #     print(f'{src} / {N_src_this}')\n",
    "        spec_name = f'{fits_dir}/spec-{pl:04d}-{mj:05d}-{fi:04d}.fits'\n",
    "\n",
    "        spec = Table.read(spec_name, hdu=1, format='fits')\n",
    "\n",
    "        # The range of SDSS is 3561-10327 Angstroms. Beyond the range limits,\n",
    "        # the flux will be 0\n",
    "        pm_SEDs[:, slc][:, src] += synth_phot(spec['FLUX'] * 1e-17, 10 ** spec['LOGLAM'])"
   ]
  },
  {
   "cell_type": "code",
   "execution_count": null,
   "metadata": {},
   "outputs": [],
   "source": [
    "N_src = len(mjd)\n",
    "N_thr = 16\n",
    "N_src_thr, rem = divmod(N_src, N_thr)\n",
    "\n",
    "pm_SEDs = np.zeros((46, N_src))\n",
    "\n",
    "for thr_i in range(N_thr):\n",
    "    if thr_i == N_thr - 1:\n",
    "        slc = slice(thr_i * N_src_thr, (thr_i + 1) * N_src_thr + rem)\n",
    "    else:\n",
    "        slc = slice(thr_i * N_src_thr, (thr_i + 1) * N_src_thr)\n",
    "    args = (plate[slc], mjd[slc], fiber[slc], pm_SEDs, slc)\n",
    "\n",
    "do_qso_phot(*args)"
   ]
  },
  {
   "cell_type": "code",
   "execution_count": null,
   "metadata": {},
   "outputs": [],
   "source": [
    "N_src = len(mjd)\n",
    "pm_SEDs = np.zeros((46, N_src))\n",
    "\n",
    "# Divide in 16 processes\n",
    "N_thr = 16\n",
    "N_src_thr, rem = divmod(N_src, N_thr)\n",
    "\n",
    "initial_count = threading.activeCount()\n",
    "for thr_i in range(N_thr):\n",
    "    if thr_i == N_thr - 1:\n",
    "        slc = slice(thr_i * N_src_thr, (thr_i + 1) * N_src_thr + rem)\n",
    "    else:\n",
    "        slc = slice(thr_i * N_src_thr, (thr_i + 1) * N_src_thr)\n",
    "    args = (plate[slc], mjd[slc], fiber[slc], pm_SEDs, slc)\n",
    "    threading.Thread(target=do_qso_phot, args=args).start()\n",
    "\n",
    "t0 = time.time()\n",
    "while True:\n",
    "    thr_count = threading.activeCount() - initial_count\n",
    "    if thr_count == 0:\n",
    "        break\n",
    "    N_done = np.sum(pm_SEDs != 0) // 60\n",
    "    time_i = time.time() - t0\n",
    "    print(f'{N_done} / {N_src},\\tspeed = {N_done / time_i:0.1f} s^-1,\\telapsed = {time_i:0.1f} s')\n",
    "    time.sleep(5)"
   ]
  },
  {
   "cell_type": "code",
   "execution_count": null,
   "metadata": {},
   "outputs": [],
   "source": [
    "# Save the cat\n",
    "hdr = tcurves['tag'] + ['mjd', 'plate', 'fiber']\n",
    "\n",
    "where_bad = np.where(~np.isfinite(pm_SEDs))\n",
    "pm_SEDs[where_bad] = np.inf\n",
    "\n",
    "savedir = '/home/alberto/almacen/PAUS_data'\n",
    "\n",
    "pd.DataFrame(\n",
    "    data=np.hstack(\n",
    "        [\n",
    "            pm_SEDs.T,\n",
    "            mjd.reshape(-1, 1),\n",
    "            plate.reshape(-1, 1),\n",
    "            fiber.reshape(-1,1)\n",
    "        ]\n",
    "    )\n",
    ").to_csv(f'{savedir}/PAUS-PHOTOSPECTRA_QSO_Superset_DR16_v2.csv', header=hdr)\n",
    "\n",
    "print('\\nCatalog saved\\n')"
   ]
  }
 ],
 "metadata": {
  "interpreter": {
   "hash": "ade4bca3e0042e0da78fecdb82351169c0f2ccedb06a0d7cf7342df8f7e47af7"
  },
  "kernelspec": {
   "display_name": "Python 3.9.12 ('base')",
   "language": "python",
   "name": "python3"
  },
  "language_info": {
   "codemirror_mode": {
    "name": "ipython",
    "version": 3
   },
   "file_extension": ".py",
   "mimetype": "text/x-python",
   "name": "python",
   "nbconvert_exporter": "python",
   "pygments_lexer": "ipython3",
   "version": "3.11.3"
  },
  "orig_nbformat": 4
 },
 "nbformat": 4,
 "nbformat_minor": 2
}
