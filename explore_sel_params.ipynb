{
 "cells": [
  {
   "cell_type": "code",
   "execution_count": null,
   "metadata": {},
   "outputs": [],
   "source": [
    "from load_paus_mocks import load_mock_dict, add_errors\n",
    "from LAE_selection_method import select_LAEs\n",
    "from paus_utils import w_central\n",
    "from jpasLAEs.utils import flux_to_mag\n",
    "\n",
    "import numpy as np\n",
    "\n",
    "import matplotlib\n",
    "import matplotlib.pyplot as plt\n",
    "matplotlib.rc('font', **{'family': 'serif', 'serif': ['Computer Modern']})\n",
    "matplotlib.rc('text', usetex=True)\n",
    "matplotlib.rcParams.update({'font.size': 16})"
   ]
  },
  {
   "cell_type": "code",
   "execution_count": null,
   "metadata": {},
   "outputs": [],
   "source": [
    "gal_fraction = 0.2\n",
    "\n",
    "source_cats_dir = '/home/alberto/almacen/Source_cats'\n",
    "mock_SFG_path = f'{source_cats_dir}/LAE_12.5deg_z2.55-5_PAUS_0'\n",
    "mock_QSO_cont_path = f'{source_cats_dir}/QSO_PAUS_contaminants_2'\n",
    "mock_QSO_LAEs_loL_path = f'{source_cats_dir}/QSO_PAUS_LAES_2'\n",
    "mock_QSO_LAEs_hiL_path = f'{source_cats_dir}/QSO_PAUS_LAES_hiL_2'\n",
    "mock_GAL_path = '/home/alberto/almacen/PAUS_data/catalogs/LightCone_mock.fits'\n",
    "mock_dict = load_mock_dict(mock_SFG_path, mock_QSO_cont_path,\n",
    "                           mock_QSO_LAEs_loL_path, mock_QSO_LAEs_hiL_path,\n",
    "                           mock_GAL_path, gal_fraction=gal_fraction)\n",
    "\n",
    "# State the mock area in deg²:\n",
    "area_dict = {\n",
    "    'SFG': 400,\n",
    "    'QSO_cont': 200,\n",
    "    'QSO_LAEs_loL': 400,\n",
    "    'QSO_LAEs_hiL': 4000,\n",
    "    'GAL': 59.97 * gal_fraction\n",
    "}\n",
    "\n",
    "for mock_name, area in area_dict.items():\n",
    "    mock_dict[mock_name]['area'] = area\n",
    "\n",
    "# Add errors\n",
    "field_name = 'W3'\n",
    "for _, mock in mock_dict.items():\n",
    "    mock['flx'], mock['err'] = add_errors(mock['flx_0'], field_name,\n",
    "                                          add_errors=True)\n",
    "    # Compute r_mag\n",
    "    mock['r_mag'] = flux_to_mag(mock['flx'][-4], w_central[-4])"
   ]
  },
  {
   "cell_type": "code",
   "execution_count": null,
   "metadata": {},
   "outputs": [],
   "source": [
    "ew0_min_list = [0, 10, 20, 30, 40]\n",
    "\n",
    "nb_min, nb_max = 0, 10\n",
    "r_min, r_max = 17, 24\n",
    "\n",
    "sel_dict = {}\n",
    "\n",
    "for ew0_min in ew0_min_list:\n",
    "    sel_dict[f'EW0_min_{ew0_min}'] = {}\n",
    "\n",
    "    for mock_name, mock in mock_dict.items():\n",
    "        mock = select_LAEs(mock, nb_min, nb_max, r_min, r_max,\n",
    "                        ew0_min, ewmin_other=100, check_nice_z=True)\n",
    "\n",
    "        sel_dict[f'EW0_min_{ew0_min}'][mock_name] = {}\n",
    "\n",
    "        sel_dict[f'EW0_min_{ew0_min}'][mock_name]['nice_lya'] = mock['nice_lya']\n",
    "        sel_dict[f'EW0_min_{ew0_min}'][mock_name]['nice_z'] = mock['nice_z']\n",
    "        sel_dict[f'EW0_min_{ew0_min}'][mock_name]['L_lya'] = mock['L_lya']"
   ]
  },
  {
   "cell_type": "code",
   "execution_count": null,
   "metadata": {},
   "outputs": [],
   "source": [
    "import pickle\n",
    "with open('/home/alberto/Desktop/sel_dict.pkl', 'wb') as f:\n",
    "    pickle.dump(sel_dict, f)"
   ]
  },
  {
   "cell_type": "code",
   "execution_count": null,
   "metadata": {},
   "outputs": [],
   "source": [
    "from jpasLAEs.utils import bin_centers\n",
    "from paus_utils import z_NB\n",
    "\n",
    "L_bins = np.linspace(42, 45.5, 30)\n",
    "L_bins_c = bin_centers(L_bins)\n",
    "\n",
    "h_parent = np.zeros(len(L_bins) - 1)\n",
    "\n",
    "z_min, z_max = z_NB(nb_min), z_NB(nb_max)\n",
    "\n",
    "for mock_name, mock in mock_dict.items():\n",
    "    zspec = mock['zspec']\n",
    "    zspec_mask = (zspec >= z_min) & (zspec <= z_max)\n",
    "    h_parent += np.histogram(mock['L_lya_spec'][zspec_mask], L_bins)[0] / area_dict[mock_name]"
   ]
  },
  {
   "cell_type": "code",
   "execution_count": null,
   "metadata": {},
   "outputs": [],
   "source": [
    "fig, axs = plt.subplots(2, figsize=(6, 8), sharex=True)\n",
    "\n",
    "for ew0_min in ew0_min_list:\n",
    "    h_sel = np.zeros(len(L_bins) - 1)\n",
    "    h_nice = np.zeros(len(L_bins) - 1)\n",
    "    h_nice_spec = np.zeros(len(L_bins) - 1)\n",
    "\n",
    "    for mock_name, mock in mock_dict.items():\n",
    "        nice_lya = sel_dict[f'EW0_min_{ew0_min}'][mock_name]['nice_lya']\n",
    "        nice_z = sel_dict[f'EW0_min_{ew0_min}'][mock_name]['nice_z']\n",
    "        L_lya = sel_dict[f'EW0_min_{ew0_min}'][mock_name]['L_lya']\n",
    "        zspec = mock['zspec']\n",
    "        zspec_mask = (zspec >= z_min) & (zspec <= z_max)\n",
    "\n",
    "        h_sel += np.histogram(L_lya[nice_lya], L_bins)[0] / area_dict[mock_name]\n",
    "        h_nice += np.histogram(L_lya[nice_lya & nice_z & zspec_mask], L_bins)[0] / area_dict[mock_name]\n",
    "        h_nice_spec += np.histogram(mock['L_lya_spec'][nice_lya & nice_z & zspec_mask], L_bins)[0] / area_dict[mock_name]\n",
    "\n",
    "    puri1d = h_nice / h_sel\n",
    "    comp1d = h_nice_spec / h_parent\n",
    "\n",
    "    puri1d[~np.isfinite(puri1d)] = 0.\n",
    "\n",
    "    axs[0].plot(L_bins_c, puri1d, label=f'{ew0_min=}')\n",
    "    axs[1].plot(L_bins_c, comp1d)\n",
    "\n",
    "axs[0].set_ylabel('Purity')\n",
    "axs[1].set_ylabel('\"Completeness\"')\n",
    "\n",
    "axs[0].legend(fontsize=11)\n",
    "\n",
    "# for ax in axs:\n",
    "#     ax.set_ylim(0, 1)\n",
    "\n",
    "plt.show()"
   ]
  }
 ],
 "metadata": {
  "kernelspec": {
   "display_name": "base",
   "language": "python",
   "name": "python3"
  },
  "language_info": {
   "codemirror_mode": {
    "name": "ipython",
    "version": 3
   },
   "file_extension": ".py",
   "mimetype": "text/x-python",
   "name": "python",
   "nbconvert_exporter": "python",
   "pygments_lexer": "ipython3",
   "version": "3.11.3"
  },
  "orig_nbformat": 4
 },
 "nbformat": 4,
 "nbformat_minor": 2
}
