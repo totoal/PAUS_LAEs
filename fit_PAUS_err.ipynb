{
 "cells": [
  {
   "cell_type": "code",
   "execution_count": null,
   "metadata": {},
   "outputs": [],
   "source": [
    "import numpy as np\n",
    "import matplotlib.pyplot as plt\n",
    "import pandas as pd\n",
    "from scipy.optimize import curve_fit\n",
    "import matplotlib\n",
    "matplotlib.rc('font', **{'family': 'serif', 'serif': ['Computer Modern']})\n",
    "matplotlib.rc('text', usetex=True)\n",
    "matplotlib.rcParams.update({'font.size': 16})"
   ]
  },
  {
   "cell_type": "code",
   "execution_count": null,
   "metadata": {},
   "outputs": [],
   "source": [
    "from load_paus_cat import load_paus_cat\n",
    "from jpasLAEs.utils import flux_to_mag\n",
    "from paus_utils import w_central\n",
    "\n",
    "field_name = 'W3'\n",
    "path_to_cat = f'/home/alberto/almacen/PAUS_data/catalogs/PAUS_{field_name}.csv'\n",
    "cat = load_paus_cat(path_to_cat)"
   ]
  },
  {
   "cell_type": "code",
   "execution_count": null,
   "metadata": {},
   "outputs": [],
   "source": [
    "cat['flx'][45]"
   ]
  },
  {
   "cell_type": "code",
   "execution_count": null,
   "metadata": {},
   "outputs": [],
   "source": [
    "def expfit(x, a, b, c):\n",
    "    return a * np.exp(b * x + c)\n",
    "\n",
    "def linfit(x, a, b):\n",
    "    return a * x + b"
   ]
  },
  {
   "cell_type": "code",
   "execution_count": null,
   "metadata": {},
   "outputs": [],
   "source": [
    "NB_number_mask = (cat['NB_number'] > 39)\n",
    "flx = cat['flx'][:, NB_number_mask]\n",
    "err = cat['err'][:, NB_number_mask]\n",
    "flx_relerr = err / flx\n",
    "\n",
    "flx[~np.isfinite(flx)] = 1e-99\n",
    "\n",
    "err_fit_params = []\n",
    "\n",
    "for filter_i in range(46):\n",
    "    # if filter_i == 45:\n",
    "    #     err_fit_params.append([0., 0., 0.])\n",
    "    #     continue\n",
    "    mask = (flx[filter_i] > 1e-18) & (flx[filter_i] < 1e-15)\n",
    "    p0 = [1., 1., 1.]\n",
    "    p, var = curve_fit(expfit, np.log10(flx[filter_i, mask]),\n",
    "                       flx_relerr[filter_i, mask], p0=p0)\n",
    "    err_fit_params.append(p)\n",
    "\n",
    "print(err_fit_params)"
   ]
  },
  {
   "cell_type": "code",
   "execution_count": null,
   "metadata": {},
   "outputs": [],
   "source": [
    "filter_i = 45\n",
    "\n",
    "fig, ax = plt.subplots(figsize=(6, 4))\n",
    "\n",
    "ax.scatter(flx[filter_i], flx_relerr[filter_i], s=1)\n",
    "\n",
    "flx_x = np.linspace(-19, -15, 1000)\n",
    "[a, b, c] = err_fit_params[filter_i]\n",
    "ax.plot(10**flx_x, expfit(flx_x, a, b, c), ls='--', c='k')\n",
    "print(err_fit_params[filter_i])\n",
    "\n",
    "ax.set_yscale('log')\n",
    "ax.set_xscale('log')\n",
    "ax.set_xlim(1e-19, 1e-15)\n",
    "\n",
    "plt.show()"
   ]
  },
  {
   "cell_type": "code",
   "execution_count": null,
   "metadata": {},
   "outputs": [],
   "source": [
    "path_to_corr = '/home/alberto/almacen/PAUS_data/catalogs/error_distribution'\n",
    "np.save(f'{path_to_corr}/fit_params_{field_name}.npy', np.array(err_fit_params))"
   ]
  }
 ],
 "metadata": {
  "interpreter": {
   "hash": "46cea94afe1f0d88e229837b28e72c2401fa9cb21844b20e15824a5f97d32088"
  },
  "kernelspec": {
   "display_name": "Python 3.9.7 ('py39')",
   "language": "python",
   "name": "python3"
  },
  "language_info": {
   "codemirror_mode": {
    "name": "ipython",
    "version": 3
   },
   "file_extension": ".py",
   "mimetype": "text/x-python",
   "name": "python",
   "nbconvert_exporter": "python",
   "pygments_lexer": "ipython3",
   "version": "3.11.3"
  },
  "orig_nbformat": 4
 },
 "nbformat": 4,
 "nbformat_minor": 2
}
