{
 "cells": [
  {
   "cell_type": "code",
   "execution_count": null,
   "metadata": {},
   "outputs": [],
   "source": [
    "from paus_utils import *\n",
    "from MyMocks.Make_LAE import synth_phot\n",
    "import pickle\n",
    "from paus_utils import w_central"
   ]
  },
  {
   "cell_type": "code",
   "execution_count": null,
   "metadata": {},
   "outputs": [],
   "source": [
    "def gaussian(w_Arr, mean, std):\n",
    "    return np.exp(-(w_Arr - mean) ** 2 / (2 * std ** 2))"
   ]
  },
  {
   "cell_type": "code",
   "execution_count": null,
   "metadata": {},
   "outputs": [],
   "source": [
    "# Load tcurves\n",
    "path_to_paus_data = '/home/alberto/almacen/PAUS_data'\n",
    "with open(f'{path_to_paus_data}/paus_tcurves.pkl', 'rb') as f:\n",
    "    tcurves = pickle.load(f)"
   ]
  },
  {
   "cell_type": "code",
   "execution_count": null,
   "metadata": {},
   "outputs": [],
   "source": [
    "# Generate random flat spectra with an emission line\n",
    "N_spec = 10_000\n",
    "w_lya = 1215.67\n",
    "\n",
    "f_cont = 1e-17\n",
    "ew_line_rand = np.random.uniform(10, 200, N_spec)\n",
    "z_lya_rand = np.random.uniform(2.6, 4.5, N_spec)\n",
    "w_lya_obs_Arr = w_lya * (1 + z_lya_rand)\n",
    "\n",
    "w_Arr = np.arange(3000, 10000, 1)\n",
    "\n",
    "SEDs_mat = np.empty((N_spec, 40))\n",
    "\n",
    "for src in range(N_spec):\n",
    "    print(src)\n",
    "    w_lya_obs = w_lya_obs_Arr[src]\n",
    "    emline = gaussian(w_Arr, w_lya_obs, 100)\n",
    "    # normalize the emline\n",
    "    emline = emline / emline.sum() * f_cont * ew_line_rand[src]\n",
    "\n",
    "    this_spec = np.ones(len(w_Arr)) * f_cont + emline\n",
    "    \n",
    "    this_SED = synth_phot(this_spec, w_Arr, tcurves)[:40]\n",
    "\n",
    "    SEDs_mat[src] = this_SED"
   ]
  },
  {
   "cell_type": "code",
   "execution_count": null,
   "metadata": {},
   "outputs": [],
   "source": [
    "z_pred = w_central[np.argmax(SEDs_mat, axis=1)] / w_lya - 1"
   ]
  },
  {
   "cell_type": "code",
   "execution_count": null,
   "metadata": {},
   "outputs": [],
   "source": [
    "fig, ax = plt.subplots()\n",
    "\n",
    "ax.scatter(z_lya_rand, z_pred)\n",
    "\n",
    "ax.plot([2.7, 4.5], [2.7, 4.5], c='orange')\n",
    "\n",
    "plt.show()"
   ]
  }
 ],
 "metadata": {
  "kernelspec": {
   "display_name": "base",
   "language": "python",
   "name": "python3"
  },
  "language_info": {
   "codemirror_mode": {
    "name": "ipython",
    "version": 3
   },
   "file_extension": ".py",
   "mimetype": "text/x-python",
   "name": "python",
   "nbconvert_exporter": "python",
   "pygments_lexer": "ipython3",
   "version": "3.11.5"
  }
 },
 "nbformat": 4,
 "nbformat_minor": 2
}
