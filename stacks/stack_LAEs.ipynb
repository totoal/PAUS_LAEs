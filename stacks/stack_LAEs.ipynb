{
 "cells": [
  {
   "cell_type": "code",
   "execution_count": null,
   "metadata": {},
   "outputs": [],
   "source": [
    "import os\n",
    "import sys\n",
    "sys.path.insert(0, '..')\n",
    "\n",
    "import matplotlib\n",
    "import matplotlib.pyplot as plt\n",
    "# matplotlib.rc('font', **{'family': 'serif', 'serif': ['Computer Modern']})\n",
    "# matplotlib.rc('text', usetex=True)\n",
    "matplotlib.rcParams.update({'font.size': 16})\n",
    "\n",
    "import numpy as np\n",
    "\n",
    "from astropy.io import fits\n",
    "\n",
    "from load_paus_cat import load_paus_cat\n",
    "\n",
    "import pandas as pd"
   ]
  },
  {
   "cell_type": "code",
   "execution_count": null,
   "metadata": {},
   "outputs": [],
   "source": [
    "vi_cat = fits.open('/home/alberto/almacen/PAUS_data/catalogs/PAUS_LAE_selection_visual_insp_AT.fits')[1].data"
   ]
  },
  {
   "cell_type": "code",
   "execution_count": null,
   "metadata": {},
   "outputs": [],
   "source": [
    "paus_tcurves_dir = '/home/alberto/almacen/PAUS_data/OUT_FILTERS'\n",
    "tcurves_file_list = os.listdir(paus_tcurves_dir)\n",
    "tcurves_file_list.sort()\n",
    "\n",
    "paus_fil_names = []\n",
    "\n",
    "for name in tcurves_file_list:\n",
    "    if name[4] == 'D':\n",
    "        this_name = f'NB{name[6:9]}'\n",
    "    else:\n",
    "        this_name = name[-5]\n",
    "\n",
    "    paus_fil_names.append(this_name)\n",
    "\n",
    "paus_fil_names = paus_fil_names[6:]"
   ]
  },
  {
   "cell_type": "code",
   "execution_count": null,
   "metadata": {},
   "outputs": [],
   "source": [
    "# Initialize output data dict\n",
    "to_stack_data = {}\n",
    "for nbi in range(40):\n",
    "    to_stack_data[paus_fil_names[nbi]] = []\n",
    "    to_stack_data[f'{paus_fil_names[nbi]}_error'] = []\n",
    "to_stack_data['z'] = []\n",
    "to_stack_lya_NB = []\n",
    "to_stack_L_lya = []\n",
    "\n",
    "\n",
    "for field_name in ['W1', 'W2', 'W3']:\n",
    "    path_to_cat = [f'/home/alberto/almacen/PAUS_data/catalogs/PAUS_3arcsec_{field_name}_extinction_corrected.pq']\n",
    "    cat = load_paus_cat(path_to_cat)\n",
    "\n",
    "    # Get IDs from LAEs visually selected\n",
    "    LAE_vi_IDs = vi_cat['ref_id'][vi_cat['is_LAE_VI'] & (vi_cat['field'] == field_name)]\n",
    "    redshifts  = vi_cat['z_NB'][vi_cat['is_LAE_VI'] & (vi_cat['field'] == field_name)]\n",
    "    lya_NB  = vi_cat['lya_NB'][vi_cat['is_LAE_VI'] & (vi_cat['field'] == field_name)]\n",
    "    L_lya  = vi_cat['L_lya_corr'][vi_cat['is_LAE_VI'] & (vi_cat['field'] == field_name)]\n",
    "    print(len(LAE_vi_IDs))\n",
    "\n",
    "    where_LAEs_in_cat = np.empty_like(LAE_vi_IDs).astype(int)\n",
    "    for i, thisid in enumerate(LAE_vi_IDs):\n",
    "        where_LAEs_in_cat[i] = np.where(thisid == cat['ref_id'])[0][0]\n",
    "\n",
    "    # Data to save to a .csv to be read by stonp\n",
    "    # 40 Narrow-bands\n",
    "    for nbi in range(40):\n",
    "        to_stack_data[paus_fil_names[nbi]].append(cat['flx'][nbi, where_LAEs_in_cat])\n",
    "        to_stack_data[f'{paus_fil_names[nbi]}_error'].append(cat['err'][nbi, where_LAEs_in_cat])\n",
    "    to_stack_data['z'].append(redshifts)\n",
    "    to_stack_lya_NB.append(lya_NB)\n",
    "    to_stack_L_lya.append(L_lya)\n",
    "\n",
    "\n",
    "for nbi in range(40):\n",
    "    to_stack_data[paus_fil_names[nbi]] = np.concatenate(to_stack_data[paus_fil_names[nbi]])\n",
    "    to_stack_data[f'{paus_fil_names[nbi]}_error'] = np.concatenate(to_stack_data[f'{paus_fil_names[nbi]}_error'])\n",
    "to_stack_data['z'] = np.concatenate(to_stack_data['z'])\n",
    "to_stack_lya_NB = np.concatenate(to_stack_lya_NB)\n",
    "to_stack_L_lya = np.concatenate(to_stack_L_lya)"
   ]
  },
  {
   "cell_type": "code",
   "execution_count": null,
   "metadata": {},
   "outputs": [],
   "source": [
    "# Save it to csv\n",
    "# nb_list = [[0, 2], [2, 4], [4, 6], [6, 8],\n",
    "#            [8, 10], [10, 12], [12, 14], [14, 16],\n",
    "#            [16, 18]]\n",
    "nb_list = [[0, 3], [4, 7], [8, 11], [12, 15], [16, 19]]\n",
    "\n",
    "for [nb1, nb2] in nb_list:\n",
    "    this_mask = (to_stack_lya_NB >= nb1) & (to_stack_lya_NB <= nb2) & (to_stack_L_lya > 44)\n",
    "    print(sum(this_mask))\n",
    "    pd.DataFrame(to_stack_data)[this_mask].to_csv(f'fluxes_to_stack_NB{nb1}_{nb2}.csv')"
   ]
  },
  {
   "cell_type": "code",
   "execution_count": null,
   "metadata": {},
   "outputs": [],
   "source": [
    "import stonp\n",
    "wl_list = []\n",
    "stacked_seds_list = []\n",
    "\n",
    "for [nb1, nb2] in nb_list:\n",
    "    st = stonp.Stacker()\n",
    "\n",
    "    st.load_catalog(f'fluxes_to_stack_NB{nb1}_{nb2}.csv', z_label='z')\n",
    "    st.to_rest_frame()\n",
    "    st.stack()\n",
    "\n",
    "    st.save_stack(f'stacked_seds_NB{nb1}_{nb2}', overwrite=True)\n",
    "    # st.plot()\n",
    "\n",
    "    wl_list.append(st.wl_grid)\n",
    "    stacked_seds_list.append(st.stacked_seds)"
   ]
  },
  {
   "cell_type": "code",
   "execution_count": null,
   "metadata": {},
   "outputs": [],
   "source": [
    "fig, ax = plt.subplots(figsize=(12, 6))\n",
    "\n",
    "iii = 0\n",
    "for wl, seds in zip(wl_list, stacked_seds_list):\n",
    "    this_norm = np.mean(seds[0][(wl > 130) & (wl < 137)])\n",
    "    ax.plot(wl, seds[0] / this_norm, label=f'NB{nb_list[iii][0]}-{nb_list[iii][1]}')\n",
    "    iii += 1\n",
    "\n",
    "ax.set_xlabel('Wavelength [\\AA]')\n",
    "ax.set_ylabel('Flux [A. U.]')\n",
    "# ax.set_xlim(110, 140)\n",
    "ax.legend()\n",
    "\n",
    "plt.show()"
   ]
  },
  {
   "cell_type": "code",
   "execution_count": null,
   "metadata": {},
   "outputs": [],
   "source": [
    "fig, ax = plt.subplots(figsize=(12, 6))\n",
    "\n",
    "wl0 = wl_list[0]\n",
    "this_norm = np.mean(stacked_seds_list[0][0][(wl0 > 130) & (wl0 < 137)])\n",
    "seds0 = stacked_seds_list[0][0] / this_norm\n",
    "\n",
    "iii = 0\n",
    "for wl, seds in zip(wl_list, stacked_seds_list):\n",
    "    iii += 1\n",
    "    this_norm = np.mean(seds[0][(wl > 130) & (wl < 137)])\n",
    "    ax.plot(wl, seds[0] / this_norm - np.interp(wl, wl0, seds0), label=iii)\n",
    "\n",
    "ax.axhline(0, c='k', zorder=-999)\n",
    "\n",
    "ax.legend()\n",
    "\n",
    "plt.show()"
   ]
  }
 ],
 "metadata": {
  "kernelspec": {
   "display_name": "base",
   "language": "python",
   "name": "python3"
  },
  "language_info": {
   "codemirror_mode": {
    "name": "ipython",
    "version": 3
   },
   "file_extension": ".py",
   "mimetype": "text/x-python",
   "name": "python",
   "nbconvert_exporter": "python",
   "pygments_lexer": "ipython3",
   "version": "3.12.0"
  }
 },
 "nbformat": 4,
 "nbformat_minor": 2
}
