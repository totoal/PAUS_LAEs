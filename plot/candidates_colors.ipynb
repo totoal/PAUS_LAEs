{
 "cells": [
  {
   "cell_type": "code",
   "execution_count": null,
   "metadata": {},
   "outputs": [],
   "source": [
    "import sys\n",
    "sys.path.insert(0, '..')\n",
    "\n",
    "import os.path as op\n",
    "\n",
    "import pandas as pd\n",
    "import numpy as np\n",
    "\n",
    "import matplotlib\n",
    "import matplotlib.pyplot as plt\n",
    "matplotlib.rc('font', **{'family': 'serif', 'serif': ['Computer Modern']})\n",
    "matplotlib.rc('text', usetex=True)\n",
    "matplotlib.rcParams.update({'font.size': 16})\n",
    "\n",
    "from load_paus_cat import load_paus_cat\n",
    "\n",
    "from astropy.coordinates import SkyCoord\n",
    "\n",
    "from paus_utils import w_central\n",
    "from jpasLAEs.utils import flux_to_mag\n",
    "\n",
    "from astropy.io import fits\n",
    "from astropy import units as u\n",
    "from astropy.table import Table"
   ]
  },
  {
   "cell_type": "code",
   "execution_count": null,
   "metadata": {},
   "outputs": [],
   "source": [
    "selection = pd.read_csv('/home/alberto/almacen/PAUS_data/catalogs/LAE_selection.csv')\n",
    "\n",
    "sel_coords = SkyCoord(selection['RA'], selection['DEC'], unit='deg')"
   ]
  },
  {
   "cell_type": "code",
   "execution_count": null,
   "metadata": {},
   "outputs": [],
   "source": [
    "vi_cat = fits.open('/home/alberto/almacen/PAUS_data/catalogs/PAUS_LAE_selection_visual_insp_AT.fits')\n",
    "vi_ref_ID = vi_cat[1].data['ref_id']\n",
    "vi_is_LAE = vi_cat[1].data['is_LAE_VI']\n",
    "vi_field = vi_cat[1].data['field']\n",
    "\n",
    "selection['is_LAE_VI'] = np.zeros_like(selection['nice_lya']).astype(bool)\n",
    "\n",
    "for field_name in ['W1', 'W2', 'W3']:\n",
    "    this_vi_ref_ID = vi_ref_ID[vi_field == field_name]\n",
    "    this_vi_is_LAE = vi_is_LAE[vi_field == field_name]\n",
    "    LAE_IDs = this_vi_ref_ID[this_vi_is_LAE]\n",
    "    for thisid in LAE_IDs:\n",
    "        if thisid in np.array(selection['ref_id']):\n",
    "            selection['is_LAE_VI'][(selection['ref_id'] == thisid) & (selection['field'] == field_name)] = True"
   ]
  },
  {
   "cell_type": "code",
   "execution_count": null,
   "metadata": {},
   "outputs": [],
   "source": [
    "u_flux = np.empty(len(selection))\n",
    "g_flux = np.empty(len(selection))\n",
    "r_flux = np.empty(len(selection))\n",
    "i_flux = np.empty(len(selection))\n",
    "z_flux = np.empty(len(selection))\n",
    "\n",
    "for field_name in ['W1', 'W2', 'W3']:\n",
    "    path_to_cat = [f'/home/alberto/almacen/PAUS_data/catalogs/PAUS_3arcsec_{field_name}_extinction_corrected.pq']\n",
    "    cat = load_paus_cat(path_to_cat)\n",
    "\n",
    "    this_cat_coords = SkyCoord(cat['RA'], cat['DEC'], unit='deg')\n",
    "\n",
    "    this_ids, this_dist, _ = sel_coords.match_to_catalog_sky(this_cat_coords)\n",
    "\n",
    "    mask_dist = this_dist.value < (3 / 3600)\n",
    "\n",
    "    u_flux[mask_dist] = cat['flx'][-6][this_ids][mask_dist]\n",
    "    g_flux[mask_dist] = cat['flx'][-5][this_ids][mask_dist]\n",
    "    r_flux[mask_dist] = cat['flx'][-4][this_ids][mask_dist]\n",
    "    i_flux[mask_dist] = cat['flx'][-3][this_ids][mask_dist]\n",
    "    z_flux[mask_dist] = cat['flx'][-2][this_ids][mask_dist]"
   ]
  },
  {
   "cell_type": "code",
   "execution_count": null,
   "metadata": {},
   "outputs": [],
   "source": [
    "# SDSS catalog\n",
    "path_to_cat = '/home/alberto/almacen/SDSS_spectra_fits/DR18/spAll-v5_13_2.fits'\n",
    "sdss_cat = fits.open(path_to_cat)[1].data\n",
    "print('SDSS cat loaded.')\n",
    "\n",
    "# HETDEX catalog\n",
    "path_to_cat = '/home/alberto/almacen/HETDEX_catalogs/hetdex_source_catalog_1'\n",
    "version = 'v3.2'\n",
    "hetdex_cat = pd.DataFrame(\n",
    "    dict(Table.read(op.join(path_to_cat, f'hetdex_sc1_{version}.ecsv')))\n",
    "    )\n",
    "print('HETDEX cat loaded.')\n",
    "\n",
    "# DESI catalog\n",
    "path_to_cat = '/home/alberto/almacen/DESI/zall-pix-fuji.fits'\n",
    "desi_cat = fits.open(path_to_cat)[1].data\n",
    "print('DESI cat loaded.')"
   ]
  },
  {
   "cell_type": "code",
   "execution_count": null,
   "metadata": {},
   "outputs": [],
   "source": [
    "# Do the cross-matches\n",
    "coords_paus = SkyCoord(ra=np.asarray(selection['RA']) * u.deg,\n",
    "                       dec=np.asarray(selection['DEC']) * u.deg)\n",
    "coords_sdss = SkyCoord(ra=sdss_cat['RA'] * u.deg,\n",
    "                       dec=sdss_cat['DEC'] * u.deg)\n",
    "coords_hetdex = SkyCoord(ra=np.asarray(hetdex_cat['RA']) * u.deg,\n",
    "                         dec=np.asarray(hetdex_cat['DEC']) * u.deg)\n",
    "coords_desi = SkyCoord(ra=desi_cat['TARGET_RA'] * u.deg,\n",
    "                       dec=desi_cat['TARGET_DEC'] * u.deg)\n",
    "\n",
    "xm_id_sdss, ang_dist_sdss, _= coords_paus.match_to_catalog_sky(coords_sdss)\n",
    "xm_id_hetdex, ang_dist_hetdex, _= coords_paus.match_to_catalog_sky(coords_hetdex)\n",
    "xm_id_desi, ang_dist_desi, _= coords_paus.match_to_catalog_sky(coords_desi)\n",
    "\n",
    "# Objects with 1 arcsec of separation\n",
    "mask_dist_sdss = (ang_dist_sdss <= 1.5 * u.arcsec) & (sdss_cat['ZWARNING'][xm_id_sdss] == 0)\n",
    "mask_dist_desi = (ang_dist_desi <= 1.5 * u.arcsec) & (desi_cat['ZWARN'][xm_id_desi] == 0)\n",
    "mask_dist_hetdex = (ang_dist_hetdex <= 1.5 * u.arcsec) & (hetdex_cat['z_hetdex_conf'][xm_id_hetdex] > 0.9)\n",
    "\n",
    "mask_dist_sdss = np.asarray(mask_dist_sdss)\n",
    "mask_dist_desi = np.asarray(mask_dist_desi)\n",
    "mask_dist_hetdex = np.asarray(mask_dist_hetdex)\n",
    "\n",
    "mask_spec = mask_dist_sdss | mask_dist_desi | mask_dist_hetdex"
   ]
  },
  {
   "cell_type": "code",
   "execution_count": null,
   "metadata": {},
   "outputs": [],
   "source": [
    "u_mag = flux_to_mag(u_flux, w_central[-6])\n",
    "g_mag = flux_to_mag(g_flux, w_central[-5])\n",
    "r_mag = flux_to_mag(r_flux, w_central[-4])\n",
    "i_mag = flux_to_mag(i_flux, w_central[-3])\n",
    "z_mag = flux_to_mag(z_flux, w_central[-2])"
   ]
  },
  {
   "cell_type": "code",
   "execution_count": null,
   "metadata": {},
   "outputs": [],
   "source": [
    "fig, ax = plt.subplots(figsize=(12, 12))\n",
    "\n",
    "cmap = plt.get_cmap('rainbow')\n",
    "\n",
    "scatter = ax.scatter(g_mag - r_mag, r_mag - i_mag,\n",
    "           c=(selection['L_lya_corr'] - 43)/ (45 - 43), cmap=cmap)\n",
    "# ax.scatter((g_mag - r_mag)[selection['is_LAE_VI']], (r_mag - i_mag)[selection['is_LAE_VI']])\n",
    "# ax.scatter((g_mag - r_mag)[mask_spec], (r_mag - i_mag)[mask_spec])\n",
    "\n",
    "plt.colorbar(scatter)\n",
    "\n",
    "\n",
    "ax.set_ylim(-1, 3)\n",
    "ax.set_xlim(-1, 3)\n",
    "\n",
    "plt.show()\n",
    "\n",
    "fig, ax = plt.subplots()\n",
    "\n",
    "ax.scatter(r_mag - i_mag, i_mag - z_mag)\n",
    "# ax.scatter((r_mag - i_mag)[selection['is_LAE_VI']], (i_mag - z_mag)[selection['is_LAE_VI']])\n",
    "# ax.scatter((r_mag - i_mag)[mask_spec], (i_mag - z_mag)[mask_spec])\n",
    "\n",
    "ax.set_ylim(-1, 3)\n",
    "ax.set_xlim(-1, 3)\n",
    "\n",
    "plt.show()"
   ]
  },
  {
   "cell_type": "code",
   "execution_count": null,
   "metadata": {},
   "outputs": [],
   "source": [
    "plt.scatter(r_mag, selection['L_lya_corr'])\n",
    "plt.scatter(r_mag[selection['is_LAE_VI']], selection['L_lya_corr'][selection['is_LAE_VI']])\n",
    "\n",
    "plt.xlim(18, 25)"
   ]
  }
 ],
 "metadata": {
  "kernelspec": {
   "display_name": "base",
   "language": "python",
   "name": "python3"
  },
  "language_info": {
   "codemirror_mode": {
    "name": "ipython",
    "version": 3
   },
   "file_extension": ".py",
   "mimetype": "text/x-python",
   "name": "python",
   "nbconvert_exporter": "python",
   "pygments_lexer": "ipython3",
   "version": "3.12.2"
  }
 },
 "nbformat": 4,
 "nbformat_minor": 2
}
