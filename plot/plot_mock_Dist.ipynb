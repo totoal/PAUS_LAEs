{
 "cells": [
  {
   "cell_type": "code",
   "execution_count": null,
   "metadata": {},
   "outputs": [],
   "source": [
    "import sys\n",
    "sys.path.insert(0, '..')\n",
    "\n",
    "import matplotlib\n",
    "import matplotlib.pyplot as plt\n",
    "matplotlib.rc('font', **{'family': 'serif', 'serif': ['Computer Modern']})\n",
    "matplotlib.rc('text', usetex=True)\n",
    "matplotlib.rcParams.update({'font.size': 16})\n",
    "\n",
    "import numpy as np\n",
    "import pickle"
   ]
  },
  {
   "cell_type": "code",
   "execution_count": null,
   "metadata": {},
   "outputs": [],
   "source": [
    "field_name = 'W3'\n",
    "savedir = '/home/alberto/almacen/PAUS_data/LF_corrections'\n",
    "\n",
    "nb_min, nb_max = 0, 18\n",
    "\n",
    "with open(f'{savedir}/mock_dict_{field_name}_nb{nb_min}-{nb_max}.pkl', 'rb') as f:\n",
    "    mock_dict = pickle.load(f)"
   ]
  },
  {
   "cell_type": "code",
   "execution_count": null,
   "metadata": {},
   "outputs": [],
   "source": [
    "fig, ax = plt.subplots(figsize=(6, 4))\n",
    "\n",
    "# Dummy for legend title\n",
    "ax.plot([], [], label=r'{\\bf Mock catalogs}', lw=0)\n",
    "\n",
    "bins = np.linspace(0, 4.3, 30)\n",
    "\n",
    "to_hist = mock_dict['GAL']['zspec']\n",
    "ax.hist(to_hist, bins, histtype='step',\n",
    "        weights=np.ones_like(to_hist), lw=3, color='tomato',\n",
    "        label=r'Galaxies (9 deg$^2$)')\n",
    "to_hist = mock_dict['QSO_LAEs_loL']['zspec']\n",
    "ax.hist(to_hist, bins, color='royalblue',\n",
    "        weights=np.ones_like(to_hist), lw=2)\n",
    "to_hist = mock_dict['QSO_cont']['zspec']\n",
    "ax.hist(to_hist, bins, color='royalblue',\n",
    "        weights=np.ones_like(to_hist), lw=2,\n",
    "        label='QSOs (1000 deg$^2$)')\n",
    "to_hist = mock_dict['QSO_LAEs_hiL']['zspec']\n",
    "ax.hist(to_hist, bins, facecolor='skyblue', alpha=0.4,\n",
    "        weights=np.ones_like(to_hist), lw=3, edgecolor='skyblue',\n",
    "        label=r'QSOs ($L_{{\\rm Ly}\\alpha}>10^{44}$ erg\\,s$^{-1}$; 5000 deg$^{2}$)')\n",
    "\n",
    "# ax.set_yscale('log')\n",
    "ax.set_xlim(0, 4.5)\n",
    "ax.set_ylim(0, 60000)\n",
    "ax.set_ylabel(r'N objects')\n",
    "# ax.set_xlabel('$r$ [mag]')\n",
    "ax.set_xlabel('Redshift')\n",
    "\n",
    "ax.ticklabel_format(style='sci', axis='y', scilimits=(1, 4))\n",
    "\n",
    "ax.tick_params(direction='in', which='both')\n",
    "ax.yaxis.set_ticks_position('both')\n",
    "ax.xaxis.set_ticks_position('both')\n",
    "\n",
    "ax.legend(fontsize=11)\n",
    "\n",
    "fig.savefig('../figures/mock_z_histogram.pdf', bbox_inches='tight', pad_inches=0.1,\n",
    "            facecolor='w')\n",
    "plt.show()"
   ]
  }
 ],
 "metadata": {
  "kernelspec": {
   "display_name": "base",
   "language": "python",
   "name": "python3"
  },
  "language_info": {
   "codemirror_mode": {
    "name": "ipython",
    "version": 3
   },
   "file_extension": ".py",
   "mimetype": "text/x-python",
   "name": "python",
   "nbconvert_exporter": "python",
   "pygments_lexer": "ipython3",
   "version": "3.12.2"
  }
 },
 "nbformat": 4,
 "nbformat_minor": 2
}
