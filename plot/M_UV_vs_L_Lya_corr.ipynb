{
 "cells": [
  {
   "cell_type": "code",
   "execution_count": null,
   "metadata": {},
   "outputs": [],
   "source": [
    "import sys\n",
    "sys.path.insert(0, '..')\n",
    "\n",
    "import matplotlib\n",
    "import matplotlib.pyplot as plt\n",
    "matplotlib.rc('font', **{'family': 'serif', 'serif': ['Computer Modern']})\n",
    "matplotlib.rc('text', usetex=True)\n",
    "matplotlib.rcParams.update({'font.size': 16})\n",
    "\n",
    "import numpy as np\n",
    "\n",
    "from astropy.io import fits"
   ]
  },
  {
   "cell_type": "code",
   "execution_count": null,
   "metadata": {},
   "outputs": [],
   "source": [
    "path_to_cat = '/home/alberto/almacen/PAUS_data/catalogs/LAE_selection_VI_hiZ_with_MUV.fits'\n",
    "cat = fits.open(path_to_cat)[1].data\n",
    "cat.columns"
   ]
  },
  {
   "cell_type": "code",
   "execution_count": null,
   "metadata": {},
   "outputs": [],
   "source": [
    "fig, ax = plt.subplots(figsize=(6, 5))\n",
    "\n",
    "mask = cat['is_LAE_VI']\n",
    "ax.errorbar(cat['M_UV'][mask], cat['L_lya_corr_2'][mask],\n",
    "            yerr=[cat['L_lya_corr_err_up_2'][mask], cat['L_lya_corr_err_down_2'][mask]],\n",
    "            xerr=cat['M_UV_err'][mask],\n",
    "            fmt='o', ms=5.5, mec='k', ecolor='dimgray', mfc='teal',\n",
    "            rasterized=True)\n",
    "\n",
    "\n",
    "# ax.axhline(45)\n",
    "# ax.axvline(-25)\n",
    "\n",
    "ax.set_xlim(-21.5, -29.5)\n",
    "ax.set_ylim(43.2, 45.5)\n",
    "\n",
    "plt.show()"
   ]
  },
  {
   "cell_type": "code",
   "execution_count": null,
   "metadata": {},
   "outputs": [],
   "source": [
    "fig, ax = plt.subplots(figsize=(6, 5))\n",
    "\n",
    "bins = np.linspace(0, 200, 10)\n",
    "\n",
    "mask = cat['is_LAE_VI'] & (cat['M_UV'] < -20)\n",
    "ax.hist(cat['EW0_lya_2'][mask], bins, histtype='step',\n",
    "        lw=2)\n",
    "\n",
    "mask = cat['is_LAE_VI'] & (cat['M_UV'] < -25)\n",
    "ax.hist(cat['EW0_lya_2'][mask], bins, histtype='step',\n",
    "        lw=2)\n",
    "\n",
    "mask = cat['is_LAE_VI'] & (cat['M_UV'] < -26)\n",
    "ax.hist(cat['EW0_lya_2'][mask], bins, histtype='step',\n",
    "        lw=2)\n",
    "\n",
    "ax.set_yscale('log')\n",
    "\n",
    "plt.show()"
   ]
  }
 ],
 "metadata": {
  "kernelspec": {
   "display_name": "base",
   "language": "python",
   "name": "python3"
  },
  "language_info": {
   "codemirror_mode": {
    "name": "ipython",
    "version": 3
   },
   "file_extension": ".py",
   "mimetype": "text/x-python",
   "name": "python",
   "nbconvert_exporter": "python",
   "pygments_lexer": "ipython3",
   "version": "3.12.2"
  }
 },
 "nbformat": 4,
 "nbformat_minor": 2
}
