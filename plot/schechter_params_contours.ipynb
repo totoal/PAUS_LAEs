{
 "cells": [
  {
   "cell_type": "code",
   "execution_count": null,
   "metadata": {},
   "outputs": [],
   "source": [
    "import sys\n",
    "sys.path.insert(0, '..')\n",
    "\n",
    "import matplotlib\n",
    "import matplotlib.pyplot as plt\n",
    "matplotlib.rc('font', **{'family': 'serif', 'serif': ['Computer Modern']})\n",
    "matplotlib.rc('text', usetex=True)\n",
    "matplotlib.rcParams.update({'font.size': 16})\n",
    "\n",
    "import numpy as np"
   ]
  },
  {
   "cell_type": "code",
   "execution_count": null,
   "metadata": {},
   "outputs": [],
   "source": [
    "# Load the chains\n",
    "nb_list = [[0, 2], [2, 4], [4, 6], [6, 8],\n",
    "           [8, 10], [10, 12], [12, 14], [14, 16],\n",
    "           [16, 18]]\n",
    "\n",
    "N_steps = 100000000\n",
    "\n",
    "chain_list = []\n",
    "\n",
    "for [nb1, nb2] in nb_list:\n",
    "    chain_name = f'../curve_fit/chains/mcmc_schechter_fit_chain_nb{nb1}-{nb2}.npy'\n",
    "    flat_samples = np.load(chain_name)[-N_steps:]\n",
    "    chain_list.append(flat_samples)"
   ]
  },
  {
   "cell_type": "code",
   "execution_count": null,
   "metadata": {},
   "outputs": [],
   "source": [
    "def contour_curve(xx, yy, bins_xx, bins_yy, levels=[0.683],\n",
    "                  N_bins=10000):\n",
    "    if np.any((np.asarray(levels) > 1) | (np.asarray(levels) <= 0)):\n",
    "        raise Exception('Levels must be in the interval (0, 1]')\n",
    "\n",
    "    Z, x, y = np.histogram2d(xx, yy, bins=(bins_xx, bins_yy))\n",
    "\n",
    "    H_min = np.amin(Z)\n",
    "    H_max = np.amax(Z)\n",
    "\n",
    "    y_centers = 0.5 * (y[1:] + y[:-1])\n",
    "    x_centers = 0.5 * (x[1:] + x[:-1])\n",
    "\n",
    "    H_Arr = np.linspace(H_min, H_max, N_bins)[::-1]\n",
    "\n",
    "    fact_up_Arr = np.zeros(N_bins)\n",
    "\n",
    "    TOTAL_H = np.sum(Z)\n",
    "\n",
    "    for iii in range(0, N_bins):\n",
    "        mask = Z > H_Arr[iii]\n",
    "        fact_up_Arr[iii] = np.sum(Z[mask]) / TOTAL_H\n",
    "\n",
    "    out_levels = list()\n",
    "    for lvl in levels:\n",
    "        this_H_value = np.interp(lvl, fact_up_Arr, H_Arr)\n",
    "        out_levels.append(this_H_value)\n",
    "\n",
    "    return x_centers, y_centers, Z.T, out_levels"
   ]
  },
  {
   "cell_type": "code",
   "execution_count": null,
   "metadata": {},
   "outputs": [],
   "source": [
    "# The parameters are stored as log10(Phistar), log10(Lstar), alpha\n",
    "\n",
    "bins_Phistar = np.linspace(-8, -5, 50)\n",
    "bins_Lstar = np.linspace(43, 46, 50)\n",
    "\n",
    "colors = matplotlib.cm.rainbow(np.linspace(0, 1, len(nb_list)))\n",
    "\n",
    "fig, ax = plt.subplots(figsize=(6, 4))\n",
    "\n",
    "for iii, [nb1, nb2] in enumerate(nb_list):\n",
    "    this_Phistar = chain_list[iii][..., 0]\n",
    "    this_Lstar = chain_list[iii][..., 1]\n",
    "    contour_args = contour_curve(this_Phistar, this_Lstar,\n",
    "                                 bins_Phistar, bins_Lstar,\n",
    "                                 levels=[0.50])\n",
    "\n",
    "    ax.contour(*contour_args, colors=[colors[iii]])\n",
    "\n",
    "plt.show()"
   ]
  }
 ],
 "metadata": {
  "kernelspec": {
   "display_name": "base",
   "language": "python",
   "name": "python3"
  },
  "language_info": {
   "codemirror_mode": {
    "name": "ipython",
    "version": 3
   },
   "file_extension": ".py",
   "mimetype": "text/x-python",
   "name": "python",
   "nbconvert_exporter": "python",
   "pygments_lexer": "ipython3",
   "version": "3.12.0"
  }
 },
 "nbformat": 4,
 "nbformat_minor": 2
}
