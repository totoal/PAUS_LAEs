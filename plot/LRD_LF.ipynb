{
 "cells": [
  {
   "cell_type": "code",
   "execution_count": null,
   "metadata": {},
   "outputs": [],
   "source": [
    "import numpy as np\n",
    "\n",
    "import sys\n",
    "sys.path.insert(0, '..')\n",
    "\n",
    "import matplotlib\n",
    "import matplotlib.pyplot as plt\n",
    "matplotlib.rc('font', **{'family': 'serif', 'serif': ['Computer Modern']})\n",
    "matplotlib.rc('text', usetex=True)\n",
    "matplotlib.rcParams.update({'font.size': 16})\n",
    "\n",
    "from astropy.io import fits\n",
    "from astropy.cosmology import Planck18 as cosmo\n",
    "import astropy.units as u\n",
    "\n",
    "\n",
    "from jpasLAEs.utils import bin_centers\n",
    "from paus_utils import z_volume"
   ]
  },
  {
   "cell_type": "code",
   "execution_count": null,
   "metadata": {},
   "outputs": [],
   "source": [
    "kokorev = fits.open('/home/alberto/almacen/LRD/VasilyKokorev-lrd_phot-a69c4c7/lrd_table_v1.1.fits')[1].data\n",
    "selection = fits.open('/home/alberto/almacen/PAUS_data/catalogs/LAE_selection_with_MUV.fits')[1].data\n",
    "print(kokorev.columns)"
   ]
  },
  {
   "cell_type": "code",
   "execution_count": null,
   "metadata": {},
   "outputs": [],
   "source": [
    "from plot.puricomp1D import plot_puricomp1d\n",
    "\n",
    "r_min, r_max = 17, 24\n",
    "puricomp1d_L_bins = np.linspace(42.5, 45.5, 15)\n",
    "puricomp1d_L_bins_c = bin_centers(puricomp1d_L_bins)\n",
    "puri1d, comp1d = plot_puricomp1d('W1', 0, 18,\n",
    "                                    17, 24,\n",
    "                                    L_bins=puricomp1d_L_bins,\n",
    "                                    LF_kind='Lya')\n",
    "\n",
    "fig, ax = plt.subplots(figsize=(6, 4))\n",
    "\n",
    "ax.plot(puricomp1d_L_bins_c, comp1d)\n",
    "ax.plot(puricomp1d_L_bins_c, puri1d)\n",
    "\n",
    "plt.show()"
   ]
  },
  {
   "cell_type": "code",
   "execution_count": null,
   "metadata": {},
   "outputs": [],
   "source": [
    "z_min, z_max = 3, 4.5\n",
    "\n",
    "sel_eff_vol = z_volume(z_min, z_max, 36)\n",
    "k24_eff_vol = z_volume(z_min, z_max, 0.1773611111111111)\n",
    "\n",
    "k24_z_mask = (kokorev.z_phot > z_min) & (kokorev.z_phot < z_max)\n",
    "sel_z_mask = (selection['z_NB'] > z_min) & (selection['z_NB'] < z_max) & (selection['is_LAE_VI'])\n",
    "\n",
    "print(sum(k24_z_mask))\n",
    "print(sum(sel_z_mask))"
   ]
  },
  {
   "cell_type": "code",
   "execution_count": null,
   "metadata": {},
   "outputs": [],
   "source": [
    "M_bins = np.linspace(-30, -15, 30)\n",
    "M_bins_c = bin_centers(M_bins)\n",
    "M_bin_w = M_bins[1] - M_bins[0]\n",
    "\n",
    "k24_LF = np.histogram(kokorev.muv[k24_z_mask], M_bins)[0] / k24_eff_vol / M_bin_w\n",
    "k24_LF_err = np.histogram(kokorev.muv[k24_z_mask], M_bins)[0]**0.5 / k24_eff_vol / M_bin_w"
   ]
  },
  {
   "cell_type": "code",
   "execution_count": null,
   "metadata": {},
   "outputs": [],
   "source": [
    "# Correct sel_LF with puricomp1d\n",
    "puri_sel = np.interp(selection['L_lya_corr'][sel_z_mask], puricomp1d_L_bins_c, puri1d)\n",
    "comp_sel = np.interp(selection['L_lya_corr'][sel_z_mask], puricomp1d_L_bins_c, comp1d)\n",
    "weights = 1. / comp_sel\n",
    "\n",
    "sel_LF = np.histogram(selection['M_UV'][sel_z_mask], M_bins,\n",
    "                      weights=weights)[0] / sel_eff_vol / M_bin_w\n",
    "sel_LF_err = np.histogram(selection['M_UV'][sel_z_mask], M_bins,\n",
    "                          weights=weights)[0]**0.5 / sel_eff_vol / M_bin_w\n",
    "\n",
    "from jpasLAEs.utils import bin_centers\n",
    "M_bins_c_sel = bin_centers(M_bins_c)\n",
    "sel_LF = np.array([(sel_LF[i] + sel_LF[i + 1]) * 0.5 for i in range(len(M_bins_c_sel))])\n",
    "sel_LF_err = (sel_LF  * sel_eff_vol * M_bin_w) ** 0.5 / sel_eff_vol / M_bin_w"
   ]
  },
  {
   "cell_type": "code",
   "execution_count": null,
   "metadata": {},
   "outputs": [],
   "source": [
    "fig, ax = plt.subplots(figsize=(12, 8))\n",
    "\n",
    "mask_LF = (k24_LF * k24_eff_vol * M_bin_w > 0)\n",
    "ax.errorbar(M_bins_c[mask_LF], k24_LF[mask_LF], yerr=k24_LF_err[mask_LF],\n",
    "            fmt='d', ls='')\n",
    "\n",
    "mask_LF = (sel_LF * sel_eff_vol * M_bin_w > 0)\n",
    "ax.errorbar(M_bins_c_sel[mask_LF], sel_LF[mask_LF], yerr=sel_LF_err[mask_LF],\n",
    "            fmt='d', ls='')\n",
    "\n",
    "ax.set_yscale('log')\n",
    "ax.set_xlim(-15, -29)\n",
    "ax.set_ylim(1e-10, 1e-3)\n",
    "\n",
    "plt.show()"
   ]
  }
 ],
 "metadata": {
  "kernelspec": {
   "display_name": "base",
   "language": "python",
   "name": "python3"
  },
  "language_info": {
   "codemirror_mode": {
    "name": "ipython",
    "version": 3
   },
   "file_extension": ".py",
   "mimetype": "text/x-python",
   "name": "python",
   "nbconvert_exporter": "python",
   "pygments_lexer": "ipython3",
   "version": "3.12.2"
  }
 },
 "nbformat": 4,
 "nbformat_minor": 2
}
