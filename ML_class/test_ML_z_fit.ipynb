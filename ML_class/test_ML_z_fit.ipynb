{
 "cells": [
  {
   "cell_type": "code",
   "execution_count": null,
   "metadata": {},
   "outputs": [],
   "source": [
    "import sys\n",
    "sys.path.insert(0, '..')\n",
    "\n",
    "import pickle\n",
    "import numpy as np\n",
    "import matplotlib.pyplot as plt\n",
    "\n",
    "from LAE_selection_method import ML_z_Lya_regression\n",
    "from paus_utils import w_central"
   ]
  },
  {
   "cell_type": "code",
   "execution_count": null,
   "metadata": {},
   "outputs": [],
   "source": [
    "field_name = 'W3'\n",
    "savedir = '/home/alberto/almacen/PAUS_data/LF_corrections'\n",
    "\n",
    "nb_min, nb_max = 0, 18\n",
    "\n",
    "with open(f'{savedir}/mock_dict_{field_name}_nb{nb_min}-{nb_max}.pkl', 'rb') as f:\n",
    "    mock_dict = pickle.load(f)"
   ]
  },
  {
   "cell_type": "code",
   "execution_count": null,
   "metadata": {},
   "outputs": [],
   "source": [
    "for mock_name, mock in mock_dict.items():\n",
    "    mock['z_ML'] = np.ones_like(mock['lya_NB']).astype(float) * -1\n",
    "    mock['z_ML'][mock['nice_lya']] = ML_z_Lya_regression(mock, 'nice_lya')\n",
    "    \n",
    "    mock['z_NB'] = w_central[mock['lya_NB']] / 1215.67 - 1"
   ]
  },
  {
   "cell_type": "code",
   "execution_count": null,
   "metadata": {},
   "outputs": [],
   "source": [
    "fig, ax = plt.subplots()\n",
    "\n",
    "for _, mock in mock_dict.items():\n",
    "    nice_z = np.abs(mock['zspec'] - mock['z_NB']) < 0.12\n",
    "\n",
    "    nice_lya = mock['nice_lya']\n",
    "\n",
    "    ax.scatter(mock['z_NB'][nice_lya], (mock['z_ML'] - mock['z_NB'])[nice_lya],\n",
    "               s=1)\n",
    "\n",
    "plt.show()"
   ]
  },
  {
   "cell_type": "code",
   "execution_count": null,
   "metadata": {},
   "outputs": [],
   "source": [
    "mock = mock_dict['QSO_LAEs_hiL']\n",
    "print(mock['z_ML'])"
   ]
  }
 ],
 "metadata": {
  "kernelspec": {
   "display_name": "base",
   "language": "python",
   "name": "python3"
  },
  "language_info": {
   "codemirror_mode": {
    "name": "ipython",
    "version": 3
   },
   "file_extension": ".py",
   "mimetype": "text/x-python",
   "name": "python",
   "nbconvert_exporter": "python",
   "pygments_lexer": "ipython3",
   "version": "3.12.2"
  }
 },
 "nbformat": 4,
 "nbformat_minor": 2
}
