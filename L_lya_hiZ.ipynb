{
 "cells": [
  {
   "cell_type": "code",
   "execution_count": null,
   "metadata": {},
   "outputs": [],
   "source": [
    "from astropy.io import fits\n",
    "import numpy as np\n",
    "from LAE_selection_method import Lya_L_estimation, estimate_continuum\n",
    "from load_paus_cat import load_paus_cat\n",
    "from paus_utils import z_NB\n",
    "import matplotlib.pyplot as plt"
   ]
  },
  {
   "cell_type": "code",
   "execution_count": null,
   "metadata": {},
   "outputs": [],
   "source": [
    "hiz_cat = fits.open('/home/alberto/almacen/PAUS_data/catalogs/LAE_selection_VI_hiZ.fits')[1].data"
   ]
  },
  {
   "cell_type": "code",
   "execution_count": null,
   "metadata": {},
   "outputs": [],
   "source": [
    "L_lya_list = []\n",
    "z_list = []\n",
    "lya_NB_list = []\n",
    "\n",
    "for field_name in ['W1', 'W2', 'W3']:\n",
    "    path_to_cat = [f'/home/alberto/almacen/PAUS_data/catalogs/PAUS_3arcsec_{field_name}_extinction_corrected.pq']\n",
    "    paus_cat = load_paus_cat(path_to_cat)\n",
    "\n",
    "    mask = hiz_cat['is_hiz_LAE'] & (hiz_cat['field'] == field_name)\n",
    "\n",
    "    LAE_vi_IDs = np.array(hiz_cat['ref_id'][mask])\n",
    "    where_LAEs_in_cat = np.empty_like(LAE_vi_IDs).astype(int)\n",
    "    for i, thisid in enumerate(LAE_vi_IDs):\n",
    "        where_LAEs_in_cat[i] = np.where(thisid == paus_cat['ref_id'])[0][0]\n",
    "\n",
    "\n",
    "    lya_NB = np.array(hiz_cat['lya_NB'])\n",
    "    lya_NB[hiz_cat['lya_NB_VI'] > 0] = hiz_cat['lya_NB_VI'][hiz_cat['lya_NB_VI'] > 0]\n",
    "\n",
    "    paus_cat['lya_NB'] = np.ones(paus_cat['flx'].shape[1]).astype(int) * -1\n",
    "    paus_cat['nice_lya'] = np.zeros(paus_cat['flx'].shape[1]).astype(bool)\n",
    "    paus_cat['nice_lya_0'] = np.zeros(paus_cat['flx'].shape[1]).astype(bool)\n",
    "    paus_cat['z_NB'] = np.empty(paus_cat['flx'].shape[1])\n",
    "\n",
    "    paus_cat['lya_NB'][where_LAEs_in_cat] = lya_NB[mask]\n",
    "    paus_cat['nice_lya'][where_LAEs_in_cat] = True\n",
    "    paus_cat['nice_lya_0'][where_LAEs_in_cat] = True\n",
    "    paus_cat['z_NB'][where_LAEs_in_cat] = z_NB(lya_NB[mask])\n",
    "\n",
    "\n",
    "    cont_est, cont_err = estimate_continuum(paus_cat['flx'], paus_cat['err'],\n",
    "                                            IGM_T_correct=True, N_nb=6)\n",
    "\n",
    "    paus_cat = Lya_L_estimation(paus_cat, cont_est, cont_err)\n",
    "\n",
    "\n",
    "    # Save the stuff I'm interested in saving\n",
    "    L_lya_list += list(paus_cat['L_lya'][paus_cat['nice_lya']])\n",
    "    z_list += list(paus_cat['z_NB'][paus_cat['nice_lya']])\n",
    "    lya_NB_list += list(paus_cat['lya_NB'][paus_cat['nice_lya']])"
   ]
  },
  {
   "cell_type": "code",
   "execution_count": null,
   "metadata": {},
   "outputs": [],
   "source": [
    "plt.hist(L_lya_list, 10)\n",
    "plt.show()\n",
    "plt.hist(z_list, 10)\n",
    "plt.show()"
   ]
  },
  {
   "cell_type": "code",
   "execution_count": null,
   "metadata": {},
   "outputs": [],
   "source": [
    "from paus_utils import Lya_effective_volume\n",
    "\n",
    "lya_NB_bins = [18.5, 24.5, 30.5]\n",
    "\n",
    "vol1 = Lya_effective_volume(19, 24, 'W1') + Lya_effective_volume(19, 24, 'W2') + Lya_effective_volume(19, 24, 'W3')\n",
    "vol2 = Lya_effective_volume(25, 30, 'W1') + Lya_effective_volume(25, 31, 'W2') + Lya_effective_volume(25, 30, 'W3')\n",
    "\n",
    "\n",
    "mask1 = (np.array(lya_NB_list) >= 19) & (np.array(lya_NB_list) <= 24)\n",
    "rho1 = np.sum(pow(10., np.array(L_lya_list))[mask1]) / vol1\n",
    "mask2 = (np.array(lya_NB_list) >= 25) & (np.array(lya_NB_list) <= 30)\n",
    "rho2 = np.sum(pow(10., np.array(L_lya_list))[mask1]) / vol2\n",
    "\n",
    "print(rho1, rho2)"
   ]
  }
 ],
 "metadata": {
  "kernelspec": {
   "display_name": "base",
   "language": "python",
   "name": "python3"
  },
  "language_info": {
   "codemirror_mode": {
    "name": "ipython",
    "version": 3
   },
   "file_extension": ".py",
   "mimetype": "text/x-python",
   "name": "python",
   "nbconvert_exporter": "python",
   "pygments_lexer": "ipython3",
   "version": "3.12.2"
  }
 },
 "nbformat": 4,
 "nbformat_minor": 2
}
