{
 "cells": [
  {
   "cell_type": "code",
   "execution_count": null,
   "metadata": {},
   "outputs": [],
   "source": [
    "from paus_utils import *\n",
    "from jpasLAEs.utils import flux_to_mag\n",
    "\n",
    "from LAE_selection_method import select_LAEs\n",
    "\n",
    "import numpy as np\n",
    "\n",
    "import matplotlib\n",
    "import matplotlib.pyplot as plt\n",
    "matplotlib.rc('font', **{'family': 'serif', 'serif': ['Computer Modern']})\n",
    "matplotlib.rc('text', usetex=True)\n",
    "matplotlib.rcParams.update({'font.size': 16})\n"
   ]
  },
  {
   "cell_type": "code",
   "execution_count": null,
   "metadata": {},
   "outputs": [],
   "source": [
    "# Load QSO mock\n",
    "from load_paus_mocks import add_errors, load_qso_mock\n",
    "\n",
    "source_cats_dir = '/home/alberto/almacen/Source_cats'\n",
    "mock_path = f'{source_cats_dir}/QSO_PAUS_LAES_2'\n",
    "mock_QSO_cont_path = f'{source_cats_dir}/QSO_PAUS_contaminants_2'\n",
    "cat = load_qso_mock(mock_path, mock_QSO_cont_path)\n",
    "\n",
    "field_name = 'W3'\n",
    "cat['flx'], cat['err'] = add_errors(cat['flx_0'], field_name, True)\n",
    "\n",
    "# Compute r_mag\n",
    "cat['r_mag'] = flux_to_mag(cat['flx'][-4], w_central[-4])\n",
    "\n",
    "N_sources = len(cat['r_mag'])\n",
    "print(N_sources)"
   ]
  },
  {
   "cell_type": "code",
   "execution_count": null,
   "metadata": {},
   "outputs": [],
   "source": [
    "# Select LAEs\n",
    "nb_min, nb_max = 0, 2\n",
    "r_min, r_max = 17, 24\n",
    "\n",
    "print(f'Searching for LAEs at {z_NB(nb_min):0.2f} < z < {z_NB(nb_max):0.2f}')\n",
    "\n",
    "cat = select_LAEs(cat, nb_min, nb_max, r_min, r_max,\n",
    "                  check_nice_z=True)"
   ]
  },
  {
   "cell_type": "code",
   "execution_count": null,
   "metadata": {},
   "outputs": [],
   "source": [
    "from LAE_selection_method import estimate_continuum\n",
    "\n",
    "# Estimate the continuum (again)\n",
    "cont_est, cont_err = estimate_continuum(cat['flx'], cat['err'],\n",
    "                                        IGM_T_correct=False, N_nb=3)"
   ]
  },
  {
   "cell_type": "code",
   "execution_count": null,
   "metadata": {},
   "outputs": [],
   "source": [
    "# Let's assume the selected line is CIV, and compute the proxy CIV redshift\n",
    "# The we compute the CIII flux in the appropriate position\n",
    "w_CIV = 1549.48\n",
    "w_CIII = 1908.734\n",
    "w_SiOIV = 1399.8\n",
    "\n",
    "z_CIV_proxy = w_central[cat['lya_NB']] / w_CIV - 1\n",
    "\n",
    "nb_CIII_proxy = np.ones(N_sources).astype(int)\n",
    "for src in range(N_sources):\n",
    "    nb_CIII_proxy[src] = NB_z(z_CIV_proxy[src], w_CIII)"
   ]
  },
  {
   "cell_type": "code",
   "execution_count": null,
   "metadata": {},
   "outputs": [],
   "source": [
    "# Compute the CIII & CIV flux\n",
    "CIV_flx = (cat['flx'][cat['lya_NB'], np.arange(N_sources)]\n",
    "            - cont_est[cat['lya_NB'], np.arange(N_sources)])\n",
    "CIII_flx = (cat['flx'][nb_CIII_proxy, np.arange(N_sources)]\n",
    "            - cont_est[nb_CIII_proxy, np.arange(N_sources)])\n",
    "\n",
    "CIV_err = (cat['err'][cat['lya_NB'], np.arange(N_sources)] ** 2\n",
    "           + cont_err[cat['lya_NB'], np.arange(N_sources)] ** 2) ** 0.5\n",
    "CIII_err = (cat['err'][nb_CIII_proxy, np.arange(N_sources)] ** 2\n",
    "            - cont_err[nb_CIII_proxy, np.arange(N_sources)] ** 2) ** 0.5"
   ]
  },
  {
   "cell_type": "code",
   "execution_count": null,
   "metadata": {},
   "outputs": [],
   "source": [
    "fig, ax = plt.subplots(figsize=(6, 4))\n",
    "\n",
    "mask = ~cat['nice_z'] & cat['nice_lya']\n",
    "ax.scatter(CIV_flx[mask], CIII_flx[mask],\n",
    "           c='r', s=2)\n",
    "\n",
    "mask = cat['nice_z'] & cat['nice_lya']\n",
    "ax.scatter(CIV_flx[mask], CIII_flx[mask],\n",
    "           c='g', s=2)\n",
    "\n",
    "ax.set_ylim(1e-22, 1e-15)\n",
    "ax.set_xlim(1e-18, 1e-15)\n",
    "\n",
    "ax.set_xlabel('CIV flux [erg\\,s${-1}$]')\n",
    "ax.set_ylabel('CIII flux [erg\\,s${-1}$]')\n",
    "\n",
    "ax.set_yscale('log')\n",
    "ax.set_xscale('log')\n",
    "\n",
    "plt.show()"
   ]
  },
  {
   "cell_type": "code",
   "execution_count": null,
   "metadata": {},
   "outputs": [],
   "source": [
    "fig, ax = plt.subplots(figsize=(6, 4))\n",
    "\n",
    "mask = ~cat['nice_z'] & cat['nice_lya']\n",
    "ax.scatter(CIV_flx[mask], CIII_flx[mask] / CIII_err[mask],\n",
    "           c='r', s=2)\n",
    "\n",
    "mask = cat['nice_z'] & cat['nice_lya']\n",
    "ax.scatter(CIV_flx[mask], CIII_flx[mask] / CIII_err[mask],\n",
    "           c='g', s=2)\n",
    "\n",
    "# ax.set_ylim(-10, 100)\n",
    "ax.set_xlim(1e-18, 1e-15)\n",
    "\n",
    "ax.set_xlabel('CIV flux [erg\\,s${-1}$]')\n",
    "ax.set_ylabel('CIII S/N')\n",
    "\n",
    "ax.set_xscale('log')\n",
    "ax.set_yscale('log')\n",
    "\n",
    "plt.show()"
   ]
  },
  {
   "cell_type": "code",
   "execution_count": null,
   "metadata": {},
   "outputs": [],
   "source": [
    "# selection = np.random.permutation(np.where(cat['nice_lya'] & ~cat['nice_z'])[0])\n",
    "selection = np.random.permutation(np.arange(N_sources))\n",
    "\n",
    "for i, src in enumerate(selection):\n",
    "    if i > 9:\n",
    "        break\n",
    "\n",
    "    # print(f'z_NB = {cat[\"z_NB\"][src]:0.2f}')\n",
    "    # print(f'z_spec = {cat[\"zspec\"][src]:0.2f}')\n",
    "\n",
    "    fig, ax = plt.subplots(figsize=(9, 4))\n",
    "\n",
    "    plot_PAUS_source(cat['flx'][:, src], cat['err'][:, src],\n",
    "                     ax=ax, plot_BBs=True, set_ylim=False)\n",
    "\n",
    "    # ax.axvline(w_central[cat['lya_NB'][src]], ls='--', c='k')\n",
    "    # ax.axvline(w_central[nb_CIII_proxy[src]], ls='--', c='k')\n",
    "\n",
    "    # # Plot the real Lya, CIII and CIV lines\n",
    "    # ax.axvline(w_lya * (cat['zspec'][src] + 1), ls=':', c='r')\n",
    "    # ax.axvline(w_CIII * (cat['zspec'][src] + 1), ls=':', c='orange')\n",
    "    # ax.axvline(w_CIV * (cat['zspec'][src] + 1), ls=':', c='orange')\n",
    "    # ax.axvline(w_SiOIV * (cat['zspec'][src] + 1), ls=':', c='orange')\n",
    "\n",
    "    ax.errorbar(w_central[np.arange(40)], 1e17*cont_est[:, src], yerr=cont_err[:, src])\n",
    "\n",
    "    plt.show()"
   ]
  },
  {
   "cell_type": "code",
   "execution_count": null,
   "metadata": {},
   "outputs": [],
   "source": [
    "fig, ax = plt.subplots(figsize=(6, 4))\n",
    "\n",
    "to_hist = (w_central[cat['lya_NB']] / (1 + cat['zspec']))[cat['nice_lya'] & ~cat['nice_z']]\n",
    "ax.hist(to_hist, np.linspace(1000, 3500, 100))\n",
    "\n",
    "ax.axvline(w_lya, ls='--', c='r')\n",
    "ax.axvline(w_CIV, ls='--', c='r')\n",
    "ax.axvline(w_CIII, ls='--', c='r')\n",
    "ax.axvline(w_SiOIV, ls='--', c='orange')\n",
    "\n",
    "plt.show()"
   ]
  }
 ],
 "metadata": {
  "kernelspec": {
   "display_name": "base",
   "language": "python",
   "name": "python3"
  },
  "language_info": {
   "codemirror_mode": {
    "name": "ipython",
    "version": 3
   },
   "file_extension": ".py",
   "mimetype": "text/x-python",
   "name": "python",
   "nbconvert_exporter": "python",
   "pygments_lexer": "ipython3",
   "version": "3.11.3"
  },
  "orig_nbformat": 4
 },
 "nbformat": 4,
 "nbformat_minor": 2
}
