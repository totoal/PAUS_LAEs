{
 "cells": [
  {
   "cell_type": "code",
   "execution_count": null,
   "metadata": {},
   "outputs": [],
   "source": [
    "import matplotlib\n",
    "import matplotlib.pyplot as plt\n",
    "matplotlib.rc('font', **{'family': 'serif', 'serif': ['Computer Modern']})\n",
    "matplotlib.rc('text', usetex=True)\n",
    "matplotlib.rcParams.update({'font.size': 16})\n",
    "\n",
    "import pandas as pd\n",
    "import numpy as np"
   ]
  },
  {
   "cell_type": "code",
   "execution_count": null,
   "metadata": {},
   "outputs": [],
   "source": [
    "field_name = 'W3'\n",
    "\n",
    "filename = f'/home/alberto/almacen/PAUS_data/{field_name}_pointings.csv'\n",
    "point_info = pd.read_csv(filename)\n",
    "\n",
    "point_info.head()"
   ]
  },
  {
   "cell_type": "code",
   "execution_count": null,
   "metadata": {},
   "outputs": [],
   "source": [
    "# Extract unique pointing identifiers\n",
    "pointing_ids = np.unique(point_info['pointing_id'])\n",
    "print(len(pointing_ids))\n",
    "\n",
    "# Compute the mean RA, DEC of the dithering\n",
    "mean_ra = np.empty_like(pointing_ids)\n",
    "mean_dec = np.empty_like(pointing_ids)\n",
    "for i, point_id in enumerate(pointing_ids):\n",
    "    mean_ra[i] = np.average(point_info['ra'][point_info['pointing_id'] == point_id])\n",
    "    mean_dec[i] = np.average(point_info['dec'][point_info['pointing_id'] == point_id])"
   ]
  },
  {
   "cell_type": "code",
   "execution_count": null,
   "metadata": {},
   "outputs": [],
   "source": [
    "# Load the photometry catalog\n",
    "from load_paus_cat import load_paus_cat\n",
    "\n",
    "path_to_cat = [f'/home/alberto/almacen/PAUS_data/catalogs/PAUS_3arcsec_{field_name}_extinction_corrected.pq']\n",
    "cat = load_paus_cat(path_to_cat)\n",
    "\n",
    "mask_NB_number = (cat['NB_number'] > -1)\n",
    "cat['flx'] = cat['flx'][:, mask_NB_number]\n",
    "cat['err'] = cat['err'][:, mask_NB_number]\n",
    "cat['NB_mask'] = cat['NB_mask'][:, mask_NB_number]\n",
    "for key in cat.keys():\n",
    "    if key in ['flx', 'err', 'NB_mask', 'area']:\n",
    "        continue\n",
    "    cat[key] = cat[key][mask_NB_number]\n",
    "\n",
    "stack_nb_ids = np.arange(12, 16 + 1)\n",
    "synth_BB_flx = np.average(cat['flx'][stack_nb_ids],\n",
    "                          weights=cat['err'][stack_nb_ids] ** -2,\n",
    "                          axis=0)\n",
    "\n",
    "N_sources = len(cat['ref_id'])"
   ]
  },
  {
   "cell_type": "code",
   "execution_count": null,
   "metadata": {},
   "outputs": [],
   "source": [
    "# Assign each source the closest pointing center\n",
    "pointing_id_Arr = np.empty(N_sources)\n",
    "for src in range(N_sources):\n",
    "    if not src % 100000:\n",
    "        print(f'{src} / {N_sources}')\n",
    "    where_pointing_id_Arr = np.argmin(\n",
    "        (cat['RA'][src] - mean_ra) ** 2\n",
    "        + (cat['DEC'][src] - mean_dec) ** 2\n",
    "    )\n",
    "    pointing_id_Arr[src] = pointing_ids[where_pointing_id_Arr]\n",
    "\n",
    "# Save the array\n",
    "save_path = f'/home/alberto/almacen/PAUS_data/catalogs/pointing_ids_{field_name}'\n",
    "np.save(save_path, pointing_id_Arr)"
   ]
  },
  {
   "cell_type": "code",
   "execution_count": null,
   "metadata": {},
   "outputs": [],
   "source": [
    "fig, ax = plt.subplots()\n",
    "\n",
    "for pid in np.unique(pointing_id_Arr):\n",
    "    mask = pointing_id_Arr == pid\n",
    "    ax.scatter(cat['RA'][mask], cat['DEC'][mask], s=1, alpha=0.1)\n",
    "\n",
    "ax.scatter(mean_ra, mean_dec)\n",
    "ax.set(xlabel='RA', ylabel='DEC')\n",
    "\n",
    "plt.show()"
   ]
  },
  {
   "cell_type": "code",
   "execution_count": null,
   "metadata": {},
   "outputs": [],
   "source": [
    "# from paus_utils import data_tab as fil_properties\n",
    "# from paus_utils import w_central\n",
    "# from jpasLAEs.utils import flux_to_mag\n",
    "\n",
    "# to_plot = np.arange(40)\n",
    "\n",
    "# fig, ax = plt.subplots(figsize=(6, 4))\n",
    "\n",
    "# for fil_id in to_plot:\n",
    "#     # SNR versus magnitude\n",
    "#     sigma = 5\n",
    "#     pointing_depth_list = []\n",
    "\n",
    "#     snr = cat['flx'][fil_id] / cat['err'][fil_id]\n",
    "#     mag = flux_to_mag(cat['flx'][fil_id], w_central[fil_id])\n",
    "\n",
    "#     for point_id in pointing_ids:\n",
    "#         mask = (pointing_id_Arr.astype(int) == point_id)\n",
    "#         if sum(mask) == 0:\n",
    "#             pointing_depth_list.append(0)\n",
    "#             continue\n",
    "        \n",
    "#         depth = np.median(mag[mask & (np.abs(snr - 5) < 0.1)])\n",
    "#         pointing_depth_list.append(depth)\n",
    "\n",
    "#     ax.scatter(pointing_ids, pointing_depth_list,\n",
    "#                label=fil_properties['name'][fil_id])\n",
    "\n",
    "#     fil_properties['name']\n",
    "\n",
    "# ax.set_ylim(20, 24)\n",
    "# ax.legend(fontsize=10)\n",
    "\n",
    "# plt.show()"
   ]
  }
 ],
 "metadata": {
  "kernelspec": {
   "display_name": "base",
   "language": "python",
   "name": "python3"
  },
  "language_info": {
   "codemirror_mode": {
    "name": "ipython",
    "version": 3
   },
   "file_extension": ".py",
   "mimetype": "text/x-python",
   "name": "python",
   "nbconvert_exporter": "python",
   "pygments_lexer": "ipython3",
   "version": "3.11.5"
  },
  "orig_nbformat": 4
 },
 "nbformat": 4,
 "nbformat_minor": 2
}
