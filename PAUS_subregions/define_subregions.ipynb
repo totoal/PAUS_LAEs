{
 "cells": [
  {
   "cell_type": "code",
   "execution_count": null,
   "metadata": {},
   "outputs": [],
   "source": [
    "import sys\n",
    "sys.path.insert(0, '..')\n",
    "\n",
    "import matplotlib.pyplot as plt\n",
    "import pandas as pd\n",
    "import numpy as np\n",
    "\n",
    "import xarray as xr"
   ]
  },
  {
   "cell_type": "code",
   "execution_count": null,
   "metadata": {},
   "outputs": [],
   "source": [
    "# Load mask\n",
    "field_name = 'W2'\n",
    "\n",
    "mask_path_dict = {\n",
    "    'W1': 'coadd_W1_1015_40NB_5_arcs.nc',\n",
    "    'W2': 'coadd_W2_1057_40NB_external_16412.nc',\n",
    "    'W3': 'coadd_W3_1012_40NB_5_arcs.nc'\n",
    "}\n",
    "\n",
    "mask_path = f'/home/alberto/almacen/PAUS_data/masks/{mask_path_dict[field_name]}'\n",
    "field_mask = xr.open_dataarray(mask_path)\n",
    "\n",
    "mask_path = f'/home/alberto/almacen/PAUS_data/masks/arclength_{mask_path_dict[field_name]}'\n",
    "field_arclength_mask = xr.open_dataarray(mask_path)"
   ]
  },
  {
   "cell_type": "code",
   "execution_count": null,
   "metadata": {},
   "outputs": [],
   "source": [
    "cbar = plt.imshow(field_mask.data)\n",
    "plt.colorbar(cbar)\n",
    "plt.show()"
   ]
  },
  {
   "cell_type": "code",
   "execution_count": null,
   "metadata": {},
   "outputs": [],
   "source": [
    "plt.hist(field_mask.data.flatten(), bins=100)\n",
    "plt.show()"
   ]
  },
  {
   "cell_type": "code",
   "execution_count": null,
   "metadata": {},
   "outputs": [],
   "source": [
    "ra_max = field_mask.ra.max()\n",
    "ra_min = field_mask.ra.min()\n",
    "dec_max = field_mask.dec.max()\n",
    "dec_min = field_mask.dec.min()"
   ]
  },
  {
   "cell_type": "code",
   "execution_count": null,
   "metadata": {},
   "outputs": [],
   "source": [
    "# Throw random points in the [RA, DEC] range\n",
    "N_random_points = 1_000_000\n",
    "\n",
    "# ra_rand = np.random.uniform(ra_min, ra_max, size=N_random_points)\n",
    "# dec_rand = np.random.uniform(dec_min, dec_max, size=N_random_points)\n",
    "\n",
    "def random_uniform_spherical_RADEC(N_random_points, ra_min, ra_max, dec_min, dec_max):\n",
    "    sintheta_min = np.sin(np.deg2rad(dec_min))\n",
    "    sintheta_max = np.sin(np.deg2rad(dec_max))\n",
    "\n",
    "    ra_rand = np.random.uniform(ra_min, ra_max, N_random_points)\n",
    "\n",
    "    sintheta_rand = np.random.uniform(sintheta_min, sintheta_max, N_random_points)\n",
    "    dec_rand = np.rad2deg(np.arcsin(sintheta_rand))\n",
    "\n",
    "    return ra_rand, dec_rand\n",
    "    \n",
    "ra_rand, dec_rand = random_uniform_spherical_RADEC(N_random_points, ra_min, ra_max,\n",
    "                                                   dec_min, dec_max)"
   ]
  },
  {
   "cell_type": "code",
   "execution_count": null,
   "metadata": {},
   "outputs": [],
   "source": [
    "from scipy.interpolate import RectBivariateSpline\n",
    "\n",
    "# Interpolate random RA,DEC points to the mask\n",
    "def radec_mask_interpolator(ra_Arr, dec_Arr, mask):\n",
    "    interpolator = RectBivariateSpline(mask.ra, mask.dec, mask.data.T)\n",
    "    mask_values = interpolator(ra_Arr, dec_Arr, grid=False)\n",
    "\n",
    "    masked_radec = (mask_values > 0.9)\n",
    "\n",
    "    return masked_radec\n",
    "\n",
    "mask_radec = radec_mask_interpolator(ra_rand, dec_rand, field_mask)"
   ]
  },
  {
   "cell_type": "code",
   "execution_count": null,
   "metadata": {},
   "outputs": [],
   "source": [
    "# Check if the masking is done correctly\n",
    "plt.scatter(ra_rand[mask_radec], dec_rand[mask_radec], s=0.1)\n",
    "plt.show()"
   ]
  },
  {
   "cell_type": "code",
   "execution_count": null,
   "metadata": {},
   "outputs": [],
   "source": [
    "##Define the number of regions we want to create,\n",
    "##as number of division in each of the RA,DEC directions\n",
    "\n",
    "# Compute more or less equal region areas across fields\n",
    "area = np.trapz(np.trapz(field_arclength_mask.data,\n",
    "                         x=field_arclength_mask.y, axis=0),\n",
    "                x=field_arclength_mask.x)\n",
    "print(f'Field area (deg^2): {area}')\n",
    "\n",
    "\n",
    "N_dec = 9\n",
    "N_ra = 11\n",
    "N_regions = N_dec * N_ra\n",
    "print(f'{N_regions=}')\n",
    "print(f'Region area: {area / N_regions:0.2f}')"
   ]
  },
  {
   "cell_type": "code",
   "execution_count": null,
   "metadata": {},
   "outputs": [],
   "source": [
    "# First divide the field in equal N_ra parts\n",
    "\n",
    "# Define absolute limits in ra\n",
    "ra_masked_min = ra_rand[mask_radec].min()\n",
    "ra_masked_max = ra_rand[mask_radec].max()\n",
    "\n",
    "# Total number of sources\n",
    "N_sources = sum(mask_radec)\n",
    "\n",
    "# Number of sources in every RA region\n",
    "N_ra_region = N_sources // N_ra\n",
    "\n",
    "ra_region_lims = []\n",
    "\n",
    "ra_region_lims.append(ra_masked_min)\n",
    "for i in range(N_ra - 1):\n",
    "    ra_region_lims.append(np.sort(ra_rand[mask_radec])[N_ra_region * (i + 1)])\n",
    "ra_region_lims.append(ra_masked_max)"
   ]
  },
  {
   "cell_type": "code",
   "execution_count": null,
   "metadata": {},
   "outputs": [],
   "source": [
    "# Check RA partition\n",
    "for i in range(N_ra):\n",
    "    mask = mask_radec & (ra_rand >= ra_region_lims[i]) & (ra_rand < ra_region_lims[i + 1])\n",
    "    plt.scatter(ra_rand[mask], dec_rand[mask], s=0.1)\n",
    "plt.show()"
   ]
  },
  {
   "cell_type": "code",
   "execution_count": null,
   "metadata": {},
   "outputs": [],
   "source": [
    "# Divide in DEC\n",
    "dec_region_lims = []\n",
    "\n",
    "for i in range(N_ra):\n",
    "    mask_ra = mask_radec & (ra_rand >= ra_region_lims[i]) & (ra_rand < ra_region_lims[i + 1])\n",
    "\n",
    "    this_dec_max = dec_rand[mask_ra].max()\n",
    "    this_dec_min = dec_rand[mask_ra].min()\n",
    "\n",
    "    this_dec_region_lims = []\n",
    "\n",
    "    N_dec_region = sum(mask_ra) // N_dec\n",
    "\n",
    "    this_dec_region_lims.append(this_dec_min)\n",
    "    for j in range(N_dec - 1):\n",
    "        this_dec_region_lims.append(np.sort(dec_rand[mask_ra])[N_dec_region * (j + 1)])\n",
    "    this_dec_region_lims.append(this_dec_max)\n",
    "\n",
    "    dec_region_lims.append(this_dec_region_lims)\n",
    "    "
   ]
  },
  {
   "cell_type": "code",
   "execution_count": null,
   "metadata": {},
   "outputs": [],
   "source": [
    "# Check final partition\n",
    "\n",
    "for i in range(N_ra):\n",
    "    mask_ra = mask_radec & (ra_rand >= ra_region_lims[i]) & (ra_rand < ra_region_lims[i + 1])\n",
    "    for j in range(N_dec):\n",
    "        mask = mask_ra & (dec_rand >= dec_region_lims[i][j]) & (dec_rand < dec_region_lims[i][j + 1])\n",
    "        plt.scatter(ra_rand[mask], dec_rand[mask], s=0.1)\n",
    "plt.show()"
   ]
  },
  {
   "cell_type": "code",
   "execution_count": null,
   "metadata": {},
   "outputs": [],
   "source": [
    "from load_paus_cat import load_paus_cat\n",
    "\n",
    "# Load PAUS\n",
    "path_to_paus_cat = [f'/home/alberto/almacen/PAUS_data/catalogs/PAUS_3arcsec_{field_name}_extinction_corrected.pq']\n",
    "paus_cat = load_paus_cat(path_to_paus_cat)\n",
    "mask_NB_number = (paus_cat['NB_number'] > 39)\n",
    "paus_cat['flx'] = paus_cat['flx'][:, mask_NB_number]\n",
    "paus_cat['err'] = paus_cat['err'][:, mask_NB_number]\n",
    "paus_cat['NB_mask'] = paus_cat['NB_mask'][:, mask_NB_number]\n",
    "for key in paus_cat.keys():\n",
    "    if key in ['flx', 'err', 'NB_mask', 'area']:\n",
    "        continue\n",
    "    paus_cat[key] = paus_cat[key][mask_NB_number]"
   ]
  },
  {
   "cell_type": "code",
   "execution_count": null,
   "metadata": {},
   "outputs": [],
   "source": [
    "# Compute NB>=40 incompletion\n",
    "N_40 = sum(paus_cat['NB_number'] == 40)\n",
    "mask_30 = (paus_cat['NB_number'] >= 30)\n",
    "N_30 = sum(radec_mask_interpolator(paus_cat['RA'][mask_30], paus_cat['DEC'][mask_30], field_mask))\n",
    "N_40/N_30"
   ]
  },
  {
   "cell_type": "code",
   "execution_count": null,
   "metadata": {},
   "outputs": [],
   "source": [
    "# Assign region IDs\n",
    "reg_id_Arr = np.ones_like(paus_cat['ref_id']).astype(int)\n",
    "\n",
    "fig, ax = plt.subplots(figsize=(16, 10))\n",
    "\n",
    "for i in range(N_ra):\n",
    "    mask_ra = mask_radec & (ra_rand >= ra_region_lims[i]) & (ra_rand < ra_region_lims[i + 1])\n",
    "    for j in range(N_dec):\n",
    "        mask = mask_ra & (dec_rand >= dec_region_lims[i][j]) & (dec_rand < dec_region_lims[i][j + 1])\n",
    "        ax.scatter(ra_rand[mask], dec_rand[mask], s=0.4, alpha=0.5, color='k')\n",
    "\n",
    "reg_id = 0\n",
    "for i in range(N_ra):\n",
    "    mask_ra = (paus_cat['RA'] >= ra_region_lims[i]) & (paus_cat['RA'] < ra_region_lims[i + 1])\n",
    "    for j in range(N_dec):\n",
    "        mask = mask_ra & (paus_cat['DEC'] >= dec_region_lims[i][j]) & (paus_cat['DEC'] < dec_region_lims[i][j + 1])\n",
    "        ax.scatter(paus_cat['RA'][mask], paus_cat['DEC'][mask], s=0.1)\n",
    "\n",
    "        reg_id_Arr[mask] = reg_id\n",
    "        reg_id += 1\n",
    "\n",
    "ax.set_xlabel('RA')\n",
    "ax.set_ylabel('DEC')\n",
    "\n",
    "ax.set_aspect('equal', adjustable='box')\n",
    "\n",
    "plt.show()"
   ]
  },
  {
   "cell_type": "code",
   "execution_count": null,
   "metadata": {},
   "outputs": [],
   "source": [
    "np.save(f'/home/alberto/almacen/PAUS_data/masks/reg_id_Arr_{field_name}', reg_id_Arr)"
   ]
  }
 ],
 "metadata": {
  "kernelspec": {
   "display_name": "base",
   "language": "python",
   "name": "python3"
  },
  "language_info": {
   "codemirror_mode": {
    "name": "ipython",
    "version": 3
   },
   "file_extension": ".py",
   "mimetype": "text/x-python",
   "name": "python",
   "nbconvert_exporter": "python",
   "pygments_lexer": "ipython3",
   "version": "3.12.0"
  },
  "orig_nbformat": 4
 },
 "nbformat": 4,
 "nbformat_minor": 2
}
