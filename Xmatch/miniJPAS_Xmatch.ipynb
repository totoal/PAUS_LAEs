{
 "cells": [
  {
   "cell_type": "code",
   "execution_count": null,
   "metadata": {},
   "outputs": [],
   "source": [
    "import sys\n",
    "sys.path.insert(0, '..')\n",
    "\n",
    "import matplotlib\n",
    "import matplotlib.pyplot as plt\n",
    "matplotlib.rc('font', **{'family': 'serif', 'serif': ['Computer Modern']})\n",
    "matplotlib.rc('text', usetex=True)\n",
    "matplotlib.rcParams.update({'font.size': 16})\n",
    "\n",
    "from jpasLAEs.load_jpas_catalogs import load_minijpas_jnep\n",
    "from load_paus_cat import load_paus_cat\n",
    "from paus_utils import w_central\n",
    "from jpasLAEs.utils import flux_to_mag\n",
    "\n",
    "from astropy.coordinates import SkyCoord\n",
    "import astropy.units as u\n",
    "\n",
    "import numpy as np"
   ]
  },
  {
   "cell_type": "code",
   "execution_count": null,
   "metadata": {},
   "outputs": [],
   "source": [
    "# Load miniJPAS\n",
    "mj_cat_dir = '/home/alberto/cosmos/LAEs/csv'\n",
    "mj_cat = load_minijpas_jnep(mj_cat_dir)\n",
    "\n",
    "# Load PAUS\n",
    "field_name = 'W3'\n",
    "path_to_cat = [f'/home/alberto/almacen/PAUS_data/catalogs/PAUS_3arcsec_{field_name}_extinction_corrected.pq']\n",
    "paus_cat = load_paus_cat(path_to_cat)\n",
    "\n",
    "mask_NB_number = (paus_cat['NB_number'] > 39)\n",
    "paus_cat['flx'] = paus_cat['flx'][:, mask_NB_number]\n",
    "paus_cat['err'] = paus_cat['err'][:, mask_NB_number]\n",
    "paus_cat['NB_mask'] = paus_cat['NB_mask'][:, mask_NB_number]\n",
    "for key in paus_cat.keys():\n",
    "    if key in ['flx', 'err', 'NB_mask', 'area']:\n",
    "        continue\n",
    "    paus_cat[key] = paus_cat[key][mask_NB_number]\n",
    "\n",
    "stack_nb_ids = np.arange(12, 26 + 1)\n",
    "synth_BB_flx = np.average(paus_cat['flx'][stack_nb_ids],\n",
    "                          weights=paus_cat['err'][stack_nb_ids] ** -2,\n",
    "                          axis=0)\n",
    "\n",
    "paus_cat['synth_r_mag'] = flux_to_mag(synth_BB_flx, w_central[-4])\n",
    "paus_cat['r_mag'] = flux_to_mag(paus_cat['flx'][-4], w_central[-4])"
   ]
  },
  {
   "cell_type": "code",
   "execution_count": null,
   "metadata": {},
   "outputs": [],
   "source": [
    "# Xmatch\n",
    "coords_paus = SkyCoord(ra=paus_cat['RA'] * u.deg,\n",
    "                       dec=paus_cat['DEC'] * u.deg)\n",
    "coords_mj = SkyCoord(ra=mj_cat['RA'] * u.deg,\n",
    "                       dec=mj_cat['DEC'] * u.deg)\n",
    "                    \n",
    "xm_id, ang_dist, _= coords_paus.match_to_catalog_sky(coords_mj)\n",
    "\n",
    "# Objects with 1 arcsec of separation\n",
    "mask_dist = (ang_dist <= 1 * u.arcsec)\n",
    "\n",
    "print(f'Matched: {sum(mask_dist)}')"
   ]
  },
  {
   "cell_type": "code",
   "execution_count": null,
   "metadata": {},
   "outputs": [],
   "source": [
    "# Select LAEs\n",
    "from LAE_selection_method import select_LAEs\n",
    "\n",
    "nb_min, nb_max = 0, 20\n",
    "r_min, r_max = 17, 24\n",
    "\n",
    "paus_cat = select_LAEs(paus_cat, nb_min, nb_max, r_min, r_max,\n",
    "                       ew0min_lya=20, ewmin_other=100)"
   ]
  },
  {
   "cell_type": "code",
   "execution_count": null,
   "metadata": {},
   "outputs": [],
   "source": [
    "import pandas as pd\n",
    "\n",
    "mj_sel_dir = '/home/alberto/cosmos/LAEs/csv/selection.csv'\n",
    "mj_selection = pd.read_csv(mj_sel_dir)\n",
    "mj_selection.head()"
   ]
  },
  {
   "cell_type": "code",
   "execution_count": null,
   "metadata": {},
   "outputs": [],
   "source": [
    "from jpasLAEs.utils import z_NB as jpas_z_NB\n",
    "\n",
    "# Add stuff to mj_cat\n",
    "mj_cat['L_lya'] = np.zeros_like(mj_cat['number']).astype(float)\n",
    "mj_cat['z_NB'] = np.zeros_like(mj_cat['number']).astype(float)\n",
    "mj_cat['nice_lya'] = np.zeros_like(mj_cat['number']).astype(bool)\n",
    "\n",
    "for i, src in enumerate(mj_selection['src']):\n",
    "    mj_cat['L_lya'][src] = mj_selection['L_lya'][i]\n",
    "    mj_cat['z_NB'][src] = jpas_z_NB(mj_selection['nb_sel'][i])\n",
    "    mj_cat['nice_lya'][src] = True"
   ]
  },
  {
   "cell_type": "code",
   "execution_count": null,
   "metadata": {},
   "outputs": [],
   "source": [
    "fig, ax = plt.subplots(figsize=(6, 4))\n",
    "\n",
    "L_bins = np.linspace(42, 46, 20)\n",
    "\n",
    "ax.hist(paus_cat['L_lya'][paus_cat['nice_lya']],\n",
    "        histtype='step', label='PAUS W3',\n",
    "        density=True)\n",
    "ax.hist(mj_cat['L_lya'][mj_cat['nice_lya']],\n",
    "        histtype='step', label='miniJPAS',\n",
    "        density=True)\n",
    "\n",
    "ax.legend(fontsize=14)\n",
    "\n",
    "plt.show()"
   ]
  },
  {
   "cell_type": "code",
   "execution_count": null,
   "metadata": {},
   "outputs": [],
   "source": [
    "fig, ax = plt.subplots(figsize=(6, 4))\n",
    "\n",
    "ax.scatter(paus_cat['z_NB'], mj_cat['z_NB'][xm_id])\n",
    "\n",
    "xx = [-100, 100]\n",
    "ax.plot(xx, xx, ls='--', c='r')\n",
    "\n",
    "ax.set_xlabel('Redshift (PAUS)')\n",
    "ax.set_ylabel('Redshift (miniJPAS)')\n",
    "ax.set_xlim(2, 5)\n",
    "ax.set_ylim(2, 5)\n",
    "\n",
    "plt.show()"
   ]
  },
  {
   "cell_type": "code",
   "execution_count": null,
   "metadata": {},
   "outputs": [],
   "source": [
    "fig, ax = plt.subplots(figsize=(6, 4))\n",
    "\n",
    "mask = np.abs(paus_cat['z_NB'] - mj_cat['z_NB'][xm_id]) < 0.2\n",
    "ax.scatter(paus_cat['L_lya'][mask], mj_cat['L_lya'][xm_id][mask])\n",
    "\n",
    "xx = [-100, 100]\n",
    "ax.plot(xx, xx, ls='--', c='r')\n",
    "\n",
    "ax.set_xlabel('L_lya (PAUS)')\n",
    "ax.set_ylabel('L_lya (miniJPAS)')\n",
    "ax.set_xlim(43, 45.5)\n",
    "ax.set_ylim(43, 45.5)\n",
    "\n",
    "plt.show()"
   ]
  }
 ],
 "metadata": {
  "kernelspec": {
   "display_name": "base",
   "language": "python",
   "name": "python3"
  },
  "language_info": {
   "codemirror_mode": {
    "name": "ipython",
    "version": 3
   },
   "file_extension": ".py",
   "mimetype": "text/x-python",
   "name": "python",
   "nbconvert_exporter": "python",
   "pygments_lexer": "ipython3",
   "version": "3.11.5"
  },
  "orig_nbformat": 4
 },
 "nbformat": 4,
 "nbformat_minor": 2
}
