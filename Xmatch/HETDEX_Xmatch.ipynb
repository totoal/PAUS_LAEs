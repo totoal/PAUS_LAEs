{
 "cells": [
  {
   "cell_type": "code",
   "execution_count": null,
   "metadata": {},
   "outputs": [],
   "source": [
    "import sys\n",
    "sys.path.insert(0, '..')\n",
    "\n",
    "from astropy.table import Table\n",
    "from astropy import units as u\n",
    "from astropy.coordinates import SkyCoord\n",
    "\n",
    "import os.path as op\n",
    "\n",
    "import numpy as np\n",
    "import pandas as pd\n",
    "\n",
    "from load_paus_cat import load_paus_cat\n",
    "from jpasLAEs.utils import flux_to_mag\n",
    "from paus_utils import w_central, plot_PAUS_source\n",
    "\n",
    "import matplotlib\n",
    "import matplotlib.pyplot as plt\n",
    "matplotlib.rc('font', **{'family': 'serif', 'serif': ['Computer Modern']})\n",
    "matplotlib.rc('text', usetex=True)\n",
    "matplotlib.rcParams.update({'font.size': 16})"
   ]
  },
  {
   "cell_type": "code",
   "execution_count": null,
   "metadata": {},
   "outputs": [],
   "source": [
    "# Load HETDEX\n",
    "path_to_cat = '/home/alberto/almacen/HETDEX_catalogs/hetdex_source_catalog_1'\n",
    "version = 'v3.2'\n",
    "\n",
    "hetdex_table = pd.DataFrame(\n",
    "    dict(Table.read(op.join(path_to_cat, f'hetdex_sc1_{version}.ecsv')))\n",
    "    )\n",
    "\n",
    "# Load PAUS catalog\n",
    "field_name = 'W3'\n",
    "path_to_cat = [f'/home/alberto/almacen/PAUS_data/catalogs/PAUS_3arcsec_{field_name}.csv']\n",
    "cat = load_paus_cat(path_to_cat)\n",
    "\n",
    "mask_NB_number = (cat['NB_number'] > 39)\n",
    "cat['flx'] = cat['flx'][:, mask_NB_number]\n",
    "cat['err'] = cat['err'][:, mask_NB_number]\n",
    "cat['NB_mask'] = cat['NB_mask'][:, mask_NB_number]\n",
    "for key in cat.keys():\n",
    "    if key in ['flx', 'err', 'NB_mask', 'area']:\n",
    "        continue\n",
    "    cat[key] = cat[key][mask_NB_number]\n",
    "\n",
    "stack_nb_ids = np.arange(12, 16 + 1)\n",
    "synth_BB_flx = np.average(cat['flx'][stack_nb_ids],\n",
    "                          weights=cat['err'][stack_nb_ids] ** -2,\n",
    "                          axis=0)\n",
    "cat['synth_r_mag'] = flux_to_mag(synth_BB_flx, w_central[-4])\n",
    "\n",
    "N_sources = len(cat['ref_id'])"
   ]
  },
  {
   "cell_type": "code",
   "execution_count": null,
   "metadata": {},
   "outputs": [],
   "source": [
    "hetdex_table.keys()"
   ]
  },
  {
   "cell_type": "code",
   "execution_count": null,
   "metadata": {},
   "outputs": [],
   "source": [
    "# Xmatch\n",
    "coords_paus = SkyCoord(ra=np.array(cat['RA']) * u.deg,\n",
    "                       dec=np.array(cat['DEC']) * u.deg)\n",
    "coords_hetdex = SkyCoord(ra=np.array(hetdex_table['RA']) * u.deg,\n",
    "                         dec=np.array(hetdex_table['DEC']) * u.deg)\n",
    "                    \n",
    "xm_id, ang_dist, _= coords_paus.match_to_catalog_sky(coords_hetdex)\n",
    "\n",
    "# Objects with 1 arcsec of separation\n",
    "mask_dist = (ang_dist <= 1 * u.arcsec)\n",
    "\n",
    "cat['z_HETDEX'] = np.array(hetdex_table['z_hetdex'])[xm_id]\n",
    "cat['z_HETDEX'][~mask_dist] = np.ones(sum(~mask_dist)) * -1\n",
    "cat['HETDEX_class'] = np.array(hetdex_table['source_type'])[xm_id]\n",
    "cat['HETDEX_class'][~mask_dist] = ''"
   ]
  },
  {
   "cell_type": "code",
   "execution_count": null,
   "metadata": {},
   "outputs": [],
   "source": [
    "sel_id_Arr = cat['ref_id'][np.where((cat['HETDEX_class'] == 'lae'))]\n",
    "print(len(sel_id_Arr))\n",
    "\n",
    "for j, refid in enumerate(sel_id_Arr):\n",
    "    if j >= 100:\n",
    "        break\n",
    "    src = np.where(refid == cat['ref_id'])[0][0]\n",
    "\n",
    "    fig, ax = plt.subplots(figsize=(8, 3.5))\n",
    "\n",
    "    cat['flx'][-1, src] = 0\n",
    "    cat['err'][-1, src] = 0\n",
    "    plot_PAUS_source(cat['flx'][:, src], cat['err'][:, src],\n",
    "                     ax=ax, plot_BBs=True, set_ylim=False)\n",
    "\n",
    "    ax.axvline(1215.67 * (cat['z_HETDEX'][src] + 1))\n",
    "\n",
    "    plt.show()"
   ]
  }
 ],
 "metadata": {
  "kernelspec": {
   "display_name": "base",
   "language": "python",
   "name": "python3"
  },
  "language_info": {
   "codemirror_mode": {
    "name": "ipython",
    "version": 3
   },
   "file_extension": ".py",
   "mimetype": "text/x-python",
   "name": "python",
   "nbconvert_exporter": "python",
   "pygments_lexer": "ipython3",
   "version": "3.11.3"
  },
  "orig_nbformat": 4
 },
 "nbformat": 4,
 "nbformat_minor": 2
}
