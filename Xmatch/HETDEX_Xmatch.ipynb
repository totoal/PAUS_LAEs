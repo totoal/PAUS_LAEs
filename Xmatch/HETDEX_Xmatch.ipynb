{
 "cells": [
  {
   "cell_type": "code",
   "execution_count": null,
   "metadata": {},
   "outputs": [],
   "source": [
    "from astropy.table import Table\n",
    "from astropy import units as u\n",
    "from astropy.coordinates import SkyCoord\n",
    "\n",
    "import os.path as op\n",
    "\n",
    "import numpy as np\n",
    "import pandas as pd"
   ]
  },
  {
   "cell_type": "code",
   "execution_count": null,
   "metadata": {},
   "outputs": [],
   "source": [
    "# Load HETDEX\n",
    "path_to_cat = '/home/alberto/almacen/HETDEX_catalogs/hetdex_source_catalog_1'\n",
    "version = 'v3.2'\n",
    "\n",
    "hetdex_table = pd.DataFrame(\n",
    "    dict(Table.read(op.join(path_to_cat, f'hetdex_sc1_{version}.ecsv')))\n",
    "    )\n",
    "\n",
    "# Load PAUS selection\n",
    "load_path = '/home/alberto/almacen/PAUS_data/catalogs'\n",
    "selection = pd.read_csv(f'{load_path}/LAE_selection.csv')\n",
    "\n",
    "selection[np.isnan(selection)] = -1\n",
    "\n",
    "selection"
   ]
  },
  {
   "cell_type": "code",
   "execution_count": null,
   "metadata": {},
   "outputs": [],
   "source": [
    "hetdex_table"
   ]
  },
  {
   "cell_type": "code",
   "execution_count": null,
   "metadata": {},
   "outputs": [],
   "source": [
    "# Xmatch\n",
    "coords_paus = SkyCoord(ra=np.array(selection['RA']) * u.deg,\n",
    "                       dec=np.array(selection['DEC']) * u.deg)\n",
    "coords_hetdex = SkyCoord(ra=np.array(hetdex_table['RA']) * u.deg,\n",
    "                         dec=np.array(hetdex_table['DEC']) * u.deg)\n",
    "                    \n",
    "xm_id, ang_dist, _= coords_paus.match_to_catalog_sky(coords_hetdex)\n",
    "\n",
    "# Objects with 1 arcsec of separation\n",
    "mask_dist = (ang_dist <= 1 * u.arcsec)\n",
    "\n",
    "selection['z_HETDEX'] = np.array(hetdex_table['z_hetdex'])[xm_id]\n",
    "selection['z_HETDEX'][~mask_dist] = np.ones(sum(~mask_dist)) * -1\n",
    "\n",
    "selection"
   ]
  },
  {
   "cell_type": "code",
   "execution_count": null,
   "metadata": {},
   "outputs": [],
   "source": [
    "sum(selection['z_HETDEX'] > 0)"
   ]
  }
 ],
 "metadata": {
  "kernelspec": {
   "display_name": "base",
   "language": "python",
   "name": "python3"
  },
  "language_info": {
   "codemirror_mode": {
    "name": "ipython",
    "version": 3
   },
   "file_extension": ".py",
   "mimetype": "text/x-python",
   "name": "python",
   "nbconvert_exporter": "python",
   "pygments_lexer": "ipython3",
   "version": "3.11.3"
  },
  "orig_nbformat": 4
 },
 "nbformat": 4,
 "nbformat_minor": 2
}
