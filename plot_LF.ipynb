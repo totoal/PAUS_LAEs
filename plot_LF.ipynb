{
 "cells": [
  {
   "cell_type": "code",
   "execution_count": null,
   "metadata": {},
   "outputs": [],
   "source": [
    "import matplotlib\n",
    "import matplotlib.pyplot as plt\n",
    "matplotlib.rc('font', **{'family': 'serif', 'serif': ['Computer Modern']})\n",
    "matplotlib.rc('text', usetex=True)\n",
    "matplotlib.rcParams.update({'font.size': 16})\n",
    "\n",
    "import numpy as np\n",
    "\n",
    "import reference_LFs as refLF\n",
    "from paus_utils import *\n",
    "\n",
    "from jpasLAEs.utils import bin_centers\n",
    "\n",
    "import pickle"
   ]
  },
  {
   "cell_type": "code",
   "execution_count": null,
   "metadata": {},
   "outputs": [],
   "source": [
    "def load_combined_LF(survey_list, nb1, nb2):\n",
    "    this_hist = None\n",
    "    for survey_name in survey_list:\n",
    "        LF_name = f'Lya_LF_nb{nb1}-{nb2}_{survey_name}'\n",
    "        pathname = f'/home/alberto/almacen/PAUS_data/Lya_LFs/{LF_name}'\n",
    "        filename_hist = f'{pathname}/hist_i_mat_{survey_name}.npy'\n",
    "        hist_i_mat = np.load(filename_hist)\n",
    "\n",
    "        L_bins = np.load(f'{pathname}/LF_L_bins.npy')\n",
    "        bin_width = [L_bins[i + 1] - L_bins[i] for i in range(len(L_bins) - 1)]\n",
    "\n",
    "        if this_hist is None:\n",
    "            this_hist = hist_i_mat\n",
    "        else:\n",
    "            this_hist += hist_i_mat\n",
    "\n",
    "\n",
    "    L_LF_err_percentiles = np.percentile(this_hist, [16, 50, 84], axis=0)\n",
    "    hist_median = L_LF_err_percentiles[1]\n",
    "\n",
    "    # yerr_minus = np.load(f'{pathname}/LF_err_minus.npy')\n",
    "    # yerr_plus = np.load(f'{pathname}/LF_err_plus.npy')\n",
    "\n",
    "    eff_vol = Lya_effective_volume(nb1, nb2, survey_name)\n",
    "\n",
    "    this_LF = hist_median / bin_width / eff_vol\n",
    "    # LF_boots = np.load(f'{pathname}/median_LF_boots.npy')\n",
    "    # # Fix yerr_minus when LF_boots == 0\n",
    "    # yerr_minus[LF_boots == 0] = this_LF[LF_boots == 0]\n",
    "\n",
    "    this_LF_dict = {\n",
    "        'LF_bins': bin_centers(L_bins),\n",
    "        'LF_total': this_LF,\n",
    "        # 'LF_total_err': [yerr_minus, yerr_plus],\n",
    "    }\n",
    "\n",
    "    return this_LF_dict"
   ]
  },
  {
   "cell_type": "code",
   "execution_count": null,
   "metadata": {},
   "outputs": [],
   "source": [
    "survey_list = ['foo']\n",
    "\n",
    "nb1, nb2 = 1, 10\n",
    "\n",
    "LyaLF = load_combined_LF(survey_list, nb1, nb2)\n",
    "\n",
    "fig, ax = plt.subplots(figsize=(6, 4))\n",
    "\n",
    "ax.errorbar(LyaLF['LF_bins'], LyaLF['LF_total'],\n",
    "            yerr=None,\n",
    "            fmt='s', ls='', mfc='limegreen', mec='k',\n",
    "            ms=7)\n",
    "\n",
    "ax.set(yscale='log',\n",
    "       xlim=(42.5, 46), ylim=(1e-8, 1e-4))\n",
    "\n",
    "plt.show()"
   ]
  }
 ],
 "metadata": {
  "kernelspec": {
   "display_name": "base",
   "language": "python",
   "name": "python3"
  },
  "language_info": {
   "codemirror_mode": {
    "name": "ipython",
    "version": 3
   },
   "file_extension": ".py",
   "mimetype": "text/x-python",
   "name": "python",
   "nbconvert_exporter": "python",
   "pygments_lexer": "ipython3",
   "version": "3.11.3"
  },
  "orig_nbformat": 4
 },
 "nbformat": 4,
 "nbformat_minor": 2
}
