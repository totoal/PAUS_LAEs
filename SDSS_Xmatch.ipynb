{
 "cells": [
  {
   "cell_type": "code",
   "execution_count": null,
   "metadata": {},
   "outputs": [],
   "source": [
    "from load_paus_cat import load_paus_cat\n",
    "\n",
    "import matplotlib\n",
    "import matplotlib.pyplot as plt\n",
    "matplotlib.rc('font', **{'family': 'serif', 'serif': ['Computer Modern']})\n",
    "matplotlib.rc('text', usetex=True)\n",
    "matplotlib.rcParams.update({'font.size': 16})\n",
    "\n",
    "import numpy as np\n",
    "\n",
    "from astropy import units as u\n",
    "from astropy.coordinates import SkyCoord\n",
    "from astropy.io import fits\n",
    "from astropy.cosmology import Planck18 as cosmo"
   ]
  },
  {
   "cell_type": "code",
   "execution_count": null,
   "metadata": {},
   "outputs": [],
   "source": [
    "# Load PAUS cat\n",
    "field_name = 'W3'\n",
    "path_to_cat = f'/home/alberto/almacen/PAUS_data/catalogs/PAUS_{field_name}.csv'\n",
    "paus_cat = load_paus_cat(path_to_cat)"
   ]
  },
  {
   "cell_type": "code",
   "execution_count": null,
   "metadata": {},
   "outputs": [],
   "source": [
    "# Load SDSS DR16Q catalog\n",
    "sdss_dir = '/home/alberto/almacen/SDSS_spectra_fits'\n",
    "\n",
    "path_to_sdss_cat = f'{sdss_dir}/DR16/DR16Q_Superset_v3.fits'\n",
    "sdss_cat = fits.open(path_to_sdss_cat)[1].data\n",
    "\n",
    "# And the line catalog\n",
    "fread = fits.open(f'{sdss_dir}/spAllLine-v5_13_0.fits')\n",
    "sdss_line_cat = fread[1].data[np.where(fread[1].data['LINEWAVE'] == 1215.67)]"
   ]
  },
  {
   "cell_type": "code",
   "execution_count": null,
   "metadata": {},
   "outputs": [],
   "source": [
    "# Xmatch\n",
    "coords_paus = SkyCoord(ra=paus_cat['RA'] * u.deg,\n",
    "                       dec=paus_cat['DEC'] * u.deg)\n",
    "coords_sdss = SkyCoord(ra=sdss_cat['RA'] * u.deg,\n",
    "                       dec=sdss_cat['DEC'] * u.deg)\n",
    "                    \n",
    "xm_id, ang_dist, _= coords_paus.match_to_catalog_sky(coords_sdss)\n",
    "\n",
    "# Objects with 1 arcsec of separation\n",
    "mask_dist = (ang_dist <= 1 * u.arcsec)"
   ]
  },
  {
   "cell_type": "code",
   "execution_count": null,
   "metadata": {},
   "outputs": [],
   "source": [
    "F_lya = np.ones(len(paus_cat['RA'])).astype(float) * -1\n",
    "\n",
    "for src in np.where(mask_dist)[0]:\n",
    "    fiber = sdss_cat['FIBERID'][xm_id[src]]\n",
    "    mjd = sdss_cat['MJD'][xm_id[src]]\n",
    "    plate = sdss_cat['PLATE'][xm_id[src]]\n",
    "\n",
    "    where_mjd = np.where(sdss_line_cat['MJD'] == mjd)\n",
    "    where_mjd_pl = np.where(sdss_line_cat['PLATE'][where_mjd] == plate)\n",
    "    where_mjd_pl_fi = np.where(sdss_line_cat['FIBERID'][where_mjd[0][where_mjd_pl]] == fiber)\n",
    "    where_in_line_cat = where_mjd[0][where_mjd_pl[0][where_mjd_pl_fi]]\n",
    "\n",
    "    if len(where_in_line_cat) > 0:\n",
    "        F_lya[src] = sdss_line_cat['LINEAREA'][where_in_line_cat]\n",
    "    else:\n",
    "        print('nope')"
   ]
  },
  {
   "cell_type": "code",
   "execution_count": null,
   "metadata": {},
   "outputs": [],
   "source": [
    "Dl = cosmo.luminosity_distance(sdss_cat['Z_CIV'][xm_id]).to(u.cm).value\n",
    "L_lya = np.ones_like(F_lya) * -1\n",
    "\n",
    "L_lya[mask_dist] = np.log10(F_lya[mask_dist] * 1e-17 * 4 * np.pi * Dl[mask_dist]**2)\n",
    "\n",
    "L_lya[~np.isfinite(L_lya)] = -1."
   ]
  },
  {
   "cell_type": "code",
   "execution_count": null,
   "metadata": {},
   "outputs": [],
   "source": [
    "from LAE_selection_method import select_LAEs\n",
    "\n",
    "nb_min, nb_max = 0, 10\n",
    "r_min, r_max = 17, 24\n",
    "\n",
    "paus_cat = select_LAEs(paus_cat, nb_min, nb_max, r_min, r_max,\n",
    "                       ew0min_lya=30, ewmin_other=100)\n",
    "\n",
    "zspec = sdss_cat[xm_id]['Z_CIV']\n",
    "zspec[~mask_dist] = -1"
   ]
  },
  {
   "cell_type": "code",
   "execution_count": null,
   "metadata": {},
   "outputs": [],
   "source": [
    "fig, ax = plt.subplots(figsize=(6, 6))\n",
    "\n",
    "ax.scatter(L_lya, paus_cat['L_lya'])\n",
    "\n",
    "xx = [-100, 100]\n",
    "ax.plot(xx, xx, ls='--', c='r')\n",
    "\n",
    "ax.set(xlim=(42, 46), ylim=(42, 46))\n",
    "\n",
    "plt.show()"
   ]
  },
  {
   "cell_type": "code",
   "execution_count": null,
   "metadata": {},
   "outputs": [],
   "source": [
    "from jpasLAEs.utils import bin_centers\n",
    "from paus_utils import z_NB\n",
    "\n",
    "z_min, z_max = z_NB(nb_min), z_NB(nb_max)\n",
    "\n",
    "zspec_mask = (zspec >= nb_min) & (zspec <= nb_max)\n",
    "\n",
    "# Completeness SDSS based\n",
    "L_bins = np.linspace(41, 46, 30)\n",
    "L_bins_c = bin_centers(L_bins)\n",
    "h_sdss_qso, _ = np.histogram(L_lya[zspec_mask], L_bins)\n",
    "h_sel, _ = np.histogram(L_lya[paus_cat['nice_lya'] & zspec_mask], L_bins)\n",
    "\n",
    "fig, ax = plt.subplots(figsize=(6, 4))\n",
    "\n",
    "ax.plot(L_bins_c, h_sel / h_sdss_qso,\n",
    "        drawstyle='steps-mid')\n",
    "\n",
    "plt.show()\n",
    "\n",
    "\n",
    "###############################################\n",
    "###############################################\n",
    "\n",
    "fig, ax = plt.subplots(figsize=(6, 4))\n",
    "\n",
    "ax.plot(L_bins_c, h_sel, label='Selected (Estimated)',\n",
    "        drawstyle='steps-mid')\n",
    "ax.plot(L_bins_c, h_sdss_qso, label='All (SDSS)',\n",
    "        drawstyle='steps-mid')\n",
    "\n",
    "ax.legend(fontsize=11)\n",
    "\n",
    "plt.show()"
   ]
  },
  {
   "cell_type": "code",
   "execution_count": null,
   "metadata": {},
   "outputs": [],
   "source": [
    "sdss_Flya_all = sdss_line_cat['LINEAREA'] * 1e-17\n",
    "sdss_Dl_arr = cosmo.luminosity_distance(sdss_line_cat['LINEZ']).to(u.cm).value\n",
    "sdss_L_lya_all = np.log10(sdss_Flya_all * 4 * np.pi * sdss_Dl_arr**2)\n"
   ]
  },
  {
   "cell_type": "code",
   "execution_count": null,
   "metadata": {},
   "outputs": [],
   "source": [
    "fig, ax = plt.subplots(figsize=(6, 4))\n",
    "\n",
    "ax.hist(sdss_L_lya_all, L_bins,\n",
    "        histtype='step', density=True,\n",
    "        label='All (SDSS)')\n",
    "ax.hist(L_lya, L_bins, label='X-match (SDSS)',\n",
    "        histtype='step', density=True)\n",
    "\n",
    "ax.set_ylabel('\\# sources [A. U.]')\n",
    "ax.set_xlabel(r'$\\log_{10}[L_{\\mathrm{Ly}\\alpha}$ / erg\\,s$^{-1}$\\,cm$^{-2}$\\AA$^{-1}$]')\n",
    "\n",
    "ax.legend(fontsize=12)\n",
    "\n",
    "plt.show()"
   ]
  }
 ],
 "metadata": {
  "kernelspec": {
   "display_name": "base",
   "language": "python",
   "name": "python3"
  },
  "language_info": {
   "codemirror_mode": {
    "name": "ipython",
    "version": 3
   },
   "file_extension": ".py",
   "mimetype": "text/x-python",
   "name": "python",
   "nbconvert_exporter": "python",
   "pygments_lexer": "ipython3",
   "version": "3.11.3"
  },
  "orig_nbformat": 4
 },
 "nbformat": 4,
 "nbformat_minor": 2
}
