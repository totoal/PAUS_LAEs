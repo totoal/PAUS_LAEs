{
 "cells": [
  {
   "cell_type": "code",
   "execution_count": null,
   "metadata": {},
   "outputs": [],
   "source": [
    "import sys\n",
    "sys.path.insert(0, '..')\n",
    "\n",
    "import numpy as np\n",
    "import matplotlib.pyplot as plt\n",
    "\n",
    "from paus_utils import w_central\n",
    "from jpasLAEs.utils import flux_to_mag"
   ]
  },
  {
   "cell_type": "code",
   "execution_count": null,
   "metadata": {},
   "outputs": [],
   "source": [
    "# Load the photometry catalog\n",
    "from load_paus_cat import load_paus_cat\n",
    "\n",
    "cat_list = []\n",
    "for field_name in ['W1', 'W2', 'W3']:\n",
    "    path_to_cat = [f'/home/alberto/almacen/PAUS_data/catalogs/PAUS_3arcsec_{field_name}_extinction_corrected.pq']\n",
    "    cat = load_paus_cat(path_to_cat)\n",
    "\n",
    "    mask_NB_number = (cat['NB_number'] > 39)\n",
    "    cat['flx'] = cat['flx'][:, mask_NB_number]\n",
    "    cat['err'] = cat['err'][:, mask_NB_number]\n",
    "    cat['NB_mask'] = cat['NB_mask'][:, mask_NB_number]\n",
    "    for key in cat.keys():\n",
    "        if key in ['flx', 'err', 'NB_mask', 'area']:\n",
    "            continue\n",
    "        cat[key] = cat[key][mask_NB_number]\n",
    "\n",
    "    stack_nb_ids = np.arange(12, 26 + 1)\n",
    "    synth_BB_flx = np.average(cat['flx'][stack_nb_ids],\n",
    "                            weights=cat['err'][stack_nb_ids] ** -2,\n",
    "                            axis=0)\n",
    "\n",
    "    cat['synth_r_mag'] = flux_to_mag(synth_BB_flx, w_central[-4])\n",
    "    cat['r_mag'] = flux_to_mag(cat['flx'][-4], w_central[-4])\n",
    "\n",
    "    cat_list.append(cat)"
   ]
  },
  {
   "cell_type": "code",
   "execution_count": null,
   "metadata": {},
   "outputs": [],
   "source": [
    "fig, ax = plt.subplots(figsize=(10, 4))\n",
    "\n",
    "for cat_i, cat in enumerate(cat_list):\n",
    "    for nb_i in np.arange(0, 20):\n",
    "        p16, p50, p84 = np.nanpercentile(cat['flx'][nb_i],\n",
    "                                         [16, 50, 84])\n",
    "\n",
    "        ax.errorbar(nb_i + 0.1 * cat_i, p50,\n",
    "                    yerr=[[p84 - p50], [p50 - p16]],\n",
    "                    fmt='s', capsize=1.5,\n",
    "                    mfc=f'C{cat_i}', mec='k', ecolor=f'C{cat_i}')\n",
    "\n",
    "    ax.errorbar([], [], marker='s', mfc=f'C{cat_i}', mec='k',\n",
    "                ls='', label=f'W{cat_i + 1}')\n",
    "\n",
    "ax.legend()\n",
    "\n",
    "plt.show()"
   ]
  }
 ],
 "metadata": {
  "kernelspec": {
   "display_name": "base",
   "language": "python",
   "name": "python3"
  },
  "language_info": {
   "codemirror_mode": {
    "name": "ipython",
    "version": 3
   },
   "file_extension": ".py",
   "mimetype": "text/x-python",
   "name": "python",
   "nbconvert_exporter": "python",
   "pygments_lexer": "ipython3",
   "version": "3.11.5"
  },
  "orig_nbformat": 4
 },
 "nbformat": 4,
 "nbformat_minor": 2
}
